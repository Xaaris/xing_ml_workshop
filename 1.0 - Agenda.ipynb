{
 "cells": [
  {
   "cell_type": "markdown",
   "metadata": {},
   "source": [
    "# Welcome\n",
    "## Agenda\n",
    "\n",
    " * 1.0 - Introduction\n",
    " * 1.1 - ML Overview\n",
    " * 1.2 - MNIST example\n",
    " * 1.3 - Keras introduction\n",
    " * 1.4 - Data representation\n",
    " * 1.5 - Activation functions\n",
    " * 1.6 - Loss functions\n",
    " * 1.7 - Gradient-Based Optimization\n",
    " * 1.8 - More evolved example\n"
   ]
  },
  {
   "cell_type": "code",
   "execution_count": null,
   "metadata": {},
   "outputs": [],
   "source": []
  }
 ],
 "metadata": {
  "kernelspec": {
   "display_name": "Python 3",
   "language": "python",
   "name": "python3"
  },
  "language_info": {
   "codemirror_mode": {
    "name": "ipython",
    "version": 3
   },
   "file_extension": ".py",
   "mimetype": "text/x-python",
   "name": "python",
   "nbconvert_exporter": "python",
   "pygments_lexer": "ipython3",
   "version": "3.8.6"
  }
 },
 "nbformat": 4,
 "nbformat_minor": 4
}
