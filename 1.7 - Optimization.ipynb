{
 "cells": [
  {
   "cell_type": "markdown",
   "metadata": {},
   "source": [
    "## Gradient based optimization\n",
    "\n",
    "Each dense layer from the MNIST example transforms its input data as follows:\n",
    "\n",
    "$output = activation(dot(W, input) + b)$\n",
    "\n",
    "In this expression, $W$ and $b$ are the **trainable parameters** of the model. \n",
    "\n",
    "Initially these parameters are filled with **small random values**. Obviously the model will not predict anything useful in this state.\n",
    "\n",
    "During training the parameters are gradually adjusted to improve the performance of the model.\n",
    "\n",
    "To be able to train a model we need to wrap it in a **loss function**. The loss function returns a single positive value and measures how good the model is in predicting labels. \n",
    "\n",
    "A loss function is also called cost function or error function.\n",
    "\n",
    "In summary: Optimizing a model means to minimize the value returned by the loss function given a set of examples. This is achived by updating the model parameters in an iterative process.\n"
   ]
  },
  {
   "cell_type": "markdown",
   "metadata": {},
   "source": [
    "## Train process\n",
    "\n",
    "Lets assume we have a set of observed examples with associated labels.\n",
    "\n",
    "Model training in general executes the following loop:\n",
    "\n",
    " 1. Draw a batch of training samples $x$ and corresponding labels $y$\n",
    " 2. Run the model on $x$ to obtain predictions $\\hat y$\n",
    " 3. Compute the loss of the model on the batch, a measure of the mismatch between $\\hat y$ and $y$\n",
    " 4. Update all parameters of the model in a way that slightly reduces the loss on this batch\n",
    " \n",
    "The training will eventually end up with a model that has a very low loss on its training data. \n",
    "\n",
    "The interesting part of the training loop is step 4: the parameter update.\n",
    "\n",
    "How can we update the individual parameters of the model to reduce the loss and get better predictions? \n",
    "\n",
    "We'll take advantage of the fact that all model operations are differentiable, and compute the gradient of the loss function with respect to the model's parameters. \n",
    "\n",
    "You can then move the parameters in the opposite direction from the gradient, thus decreasing the loss."
   ]
  },
  {
   "cell_type": "markdown",
   "metadata": {},
   "source": [
    "## What is a gradient?\n",
    "\n",
    "Consider a continuous, smooth function $f(x) = y$, mapping a real number x to a real number y.\n",
    "\n",
    "The derivative of $f(x)$ is written as: \n",
    "\n",
    "$$f'(x) = \\frac{d}{dx}f(x) = \\frac{d f(x)}{dx}$$\n",
    "\n",
    "$\\frac{d}{dx}$ is called the **differential operator**. \n",
    "\n",
    "You can think of $\\frac{d f(x)}{dx}$ as an operator that maps a function of one parameter to the derivative of the function.\n",
    "\n",
    "The value of $\\frac{d f(x)}{dx}$ is simply the **slope** of $f(x)$ at some given point $x=p$.\n",
    "\n",
    "\n",
    "The derivative tells us how the value of $f(x)$ changes if we change $p$.\n",
    "\n",
    "\n",
    "If the derivative is **negative**, it means a small change of x around p will result in a decrease of f(x). \n",
    "\n",
    "If the derivative is **positive**, a small change in x will result in an increase of f(x). \n",
    "\n",
    "Further, the absolute value of the derivative tells you how quickly this increase or decrease will happen.\n",
    "\n",
    "Lets look at a simple example $f(x) = x^2 + 3x$"
   ]
  },
  {
   "cell_type": "code",
   "execution_count": 5,
   "metadata": {},
   "outputs": [
    {
     "data": {
      "image/png": "[encoded data removed]",
      "text/plain": [
       "<matplotlib.figure.Figure at 0x10ada5828>"
      ]
     },
     "metadata": {},
     "output_type": "display_data"
    }
   ],
   "source": [
    "%matplotlib inline\n",
    "import matplotlib\n",
    "import numpy as np\n",
    "import matplotlib.pyplot as plt\n",
    "\n",
    "def f(x): return x**2 + 3 * x\n",
    "def df_dx(x): return 2 * x + 3\n",
    "\n",
    "x= np.arange(-5, 2, 0.01)\n",
    "plt.title('Single parameter function derivative')\n",
    "plt.xlabel('x')\n",
    "plt.plot(x, f(x), label='f(x)')\n",
    "plt.plot(x, df_dx(x), label='df(x)/dx')\n",
    "plt.axhline(linewidth=1, color='black')\n",
    "plt.legend()\n",
    "plt.show()"
   ]
  },
  {
   "cell_type": "markdown",
   "metadata": {},
   "source": [
    "Lets consider the case when a function $f(x_1, x_2)$ has multiple input variables.\n",
    "\n",
    "In this case each input variable contributes to the value of the function and it does not make sense to have a single derivative for the function. \n",
    "\n",
    "Instead we compute derivatives with respect to one variable at a time, these are called **partial derivatives**.\n",
    "\n",
    "Instead of using the differential operator $\\frac{d}{dx}$, we use the **partial differential operator** $ \\frac{\\partial}{\\partial x}$.\n",
    "\n",
    "For a function $f(x_1, x_2)$ the partial derivatives are $\\frac{\\partial}{\\partial x_1}f(x)$ and $\\frac{\\partial}{\\partial x_2}f(x)$. \n",
    "\n",
    "The partial derivative with respect to $x_i$ is calculated just like the derivative for a single variable function, simply treating any other variables in the equation as a constant.\n",
    "\n",
    "The partial derivative w.r.t $x_i$ tells us how the value of $f(x_1, x_2)$ will change if we change $x_i$ a little bit.\n",
    "\n",
    "The vector of partial derivatives is called the **gradient** of $f(x_1, x_2)$:\n",
    "\n",
    "$$\n",
    "\\nabla f(x_1,x_2) = \\left [ \\frac{\\partial f(x_1,x_2)}{\\partial x_1}, \\frac{\\partial f(x_1,x_2)}{\\partial x_2} \\right ]\n",
    "$$\n",
    "\n",
    "The $\\nabla$ is called the Nabla operator.\n",
    "\n",
    "In machine learning most of the time we use functions that take vectors or matrics as input. So instead of functions with scalar variables like $f(x_1, x_2)$ we use something like $f(x)$ where x is a vector $x=[x_1, x_2]$. \n",
    "\n",
    "The gradient of $f(x)$ looks like this:\n",
    "\n",
    "$$\n",
    "\\nabla f(x) = \\left [ \\frac{\\partial f(x)}{\\partial x_1}, \\frac{\\partial f(x)}{\\partial x_2} \\right ]\n",
    "$$\n",
    "\n",
    "**Note:** Using functions that take tensors as input has a number of advantages. The functions become more generic because they can take an arbitrary number of inputs. More importantly the tensor representation allows parallel computation by using vectorized operations in CPUs and GPUs.\n",
    "\n",
    "Lets look at a simple example  $f(x)=x_1^2 + x_2^2$"
   ]
  },
  {
   "cell_type": "code",
   "execution_count": 2,
   "metadata": {},
   "outputs": [],
   "source": [
    "import numpy as np\n",
    "\n",
    "def f(x): \n",
    "    return x[0]**2 + x[1]**2\n",
    "\n",
    "def grad_f(x): \n",
    "    df_dx1 = 2 * x[0]\n",
    "    df_dx2 = 2 * x[1]\n",
    "    return np.array([df_dx1, df_dx2])"
   ]
  },
  {
   "cell_type": "markdown",
   "metadata": {},
   "source": [
    "## Gradient descent algorithm\n",
    "\n",
    "**TODO** give some motivation for GD\n",
    "\n",
    "The gradient is a vector that points into the direction of greatest increase of $f(x)$. \n",
    "\n",
    "To minimize $f(x)$ (e.g. finding the $x$ where $f(x)$ is minimal) all we need to do is to take a small step in the direction of the **negative gradient**. We repeat this until the value of $f(x)$ does not change any more.\n",
    "\n",
    "Its important to only take a small step because the gradient is only a good approximation of $f(x)$ in its immediate surrounding.\n",
    "\n",
    "Formally we apply the following **update rule** in each iteration to find the $x$ that minimizes $f(x)$:\n",
    "\n",
    "$$\n",
    "x_n = x_{n-1} - \\alpha \\ \\nabla f(x)\n",
    "$$\n",
    "\n",
    "$\\alpha$ is called the learning rate, it controls the size of step we take in each iteration.\n",
    "\n",
    "Lets look at a simple function $f(x) = x_0^2 + x_1^3 + 3$. The function is convex and has a global minimum as $x=[0,0]$."
   ]
  },
  {
   "cell_type": "code",
   "execution_count": 5,
   "metadata": {},
   "outputs": [
    {
     "name": "stdout",
     "output_type": "stream",
     "text": [
      "Final x=[0.0095219  0.00115217]\n",
      "Final f(x)=3.000091\n"
     ]
    },
    {
     "data": {
      "image/png": "[encoded data removed]",
      "text/plain": [
       "<matplotlib.figure.Figure at 0x108daa860>"
      ]
     },
     "metadata": {},
     "output_type": "display_data"
    }
   ],
   "source": [
    "%matplotlib inline\n",
    "import matplotlib\n",
    "import numpy as np\n",
    "import matplotlib.pyplot as plt\n",
    "\n",
    "# f(x) is the function we want to minimize\n",
    "def f(x):\n",
    "    return x[0]**2 + x[1]**3 + 3\n",
    "\n",
    "# Gradient of f(x)\n",
    "def grad_f(x):\n",
    "    return np.array([2 * x[0], 3 * x[1]])\n",
    "\n",
    "max_steps = 100\n",
    "alpha = 0.025\n",
    "initial_x = np.random.rand(2) * 5.0 # initialize x_0 random\n",
    "\n",
    "x = initial_x\n",
    "f_hist = []\n",
    "for step in range(max_steps):\n",
    "    x = x - alpha * grad_f(x) # update rule\n",
    "    f_hist.append(f(x))\n",
    "print('Final x=%s' % x)\n",
    "print('Final f(x)=%f' % f(x))\n",
    "\n",
    "plt.title('Convergence plot')\n",
    "plt.xlabel('step')\n",
    "plt.ylabel('f(x)')\n",
    "plt.plot(f_hist)\n",
    "plt.show()\n"
   ]
  },
  {
   "cell_type": "markdown",
   "metadata": {},
   "source": [
    "You can see from the plot that at some step the value of $f(x)$ does not change any more, the process has converged.\n",
    "\n",
    "This algorithm is called **Gradient Descent**. \n",
    "\n",
    "The implementation in the example is pretty simple. State-of-the-art implementation are highly optimized and take advantage of hardware accelerators like vectorized CPU operations, GPUs or TPUs.\n",
    "\n",
    "$\\alpha$ is called the **learning rate**. \n",
    "\n",
    "The learning rate has a huge influence on training time and prediction performance. If not set properly the training process might take very longer or may not converge at all. The value is usually set in the range 0.01 to 0.0001\n",
    "\n",
    "For convex functions with a reasonable leraning rate gradient descent is guaranteed to find the global minimum. For non-convex functions gradient descent is guaranteed to find a local minimum.\n",
    "\n",
    "Neuronal networks are non-convex functions that often have millions of local minima. In practice gradient descent does a good job in optimizing models."
   ]
  },
  {
   "cell_type": "markdown",
   "metadata": {},
   "source": [
    "When training a model $f(x)$ we have two sets of arguments that determine the result:\n",
    " * the input example $x$\n",
    " * the model weights and bias terms\n",
    " \n",
    "Lets define $\\theta = \\{w_0, b_0,...,w_k, b_k\\}$ as collection of all weights and bias terms.\n",
    " \n",
    "Further we do not directly optimize the model function $f(x)$ but instead a loss function $L(x, y, \\theta)$ that wraps the model.\n",
    "\n",
    "When minimizing the loss we can only change the values in $\\theta$, $x$ and $y$ are observations that are immutable.\n",
    "\n",
    "To train the model we perform the following steps:\n",
    "\n",
    " 1. Initialize $\\theta$ with small random values\n",
    " 2. Sample an example $x$ and $y$ and calculate $\\hat y = f(x)$\n",
    " 3. Calculate the partial derivatives of the loss function w.r.t. $\\theta$\n",
    " 4. Update all parameters in $\\theta$ according to the update rule $\\theta_{n+1} = \\theta_{n} - \\alpha \\nabla_\\theta L(x_i, y_i;\\theta_{n})$\n",
    " 5. Repeat from step 2 until loss change stays below some threshold"
   ]
  },
  {
   "cell_type": "markdown",
   "metadata": {},
   "source": [
    "## Learning rate\n",
    "\n",
    "This is a cartoon depicting the effects of different learning rates:\n",
    "\n",
    "<img src=\"images/cartoon_loss.png\" height=\"300\" width=\"400\"/>\n",
    "\n",
    " * With a low learning rate (blue line) the loss will decrease slowly because the parameter updates are very small\n",
    " * High learning rates (green line) will decay the loss faster, but they get stuck at worse values of loss. This is because there is too much \"energy\" in the optimization and the parameters are bouncing around chaotically, unable to settle in a deep spot in the optimization landscape.\n",
    " * With very high learning rate (yellow line) the loss may even grow exponentially\n",
    "\n",
    "One simple solution is to anneal the learning rate over time. Starting with a high learning rate helps to speed up the learning progress early on and reducing it over time helps to settle down into deeper but narrower parts of the loss function.\n",
    "\n",
    "Another solution is to use a more sophisticated optimization algorithm like:\n",
    "\n",
    " * Adam\n",
    " * Adagrad\n",
    " * RMSProp\n"
   ]
  },
  {
   "cell_type": "markdown",
   "metadata": {},
   "source": [
    "## Variations of Gradient Descent\n",
    "\n",
    "Assume we draw a random batch $x = [x_1,...,x_m]$ of size $m$ from the training dataset.\n",
    "\n",
    "$$\n",
    "\\theta_{n+1} = \\theta_{n} - \\alpha \\frac{1}{m} \\sum_{i=1}^m \\nabla_\\theta L(x_i, y_i;\\theta_{n})\n",
    "$$\n",
    "\n",
    " * Stochastic GD: m=1, high parameter update rate, gradients are very noisy and parameter updates are not very accurate, large jumps in the loss landscape, algorithm might not converge\n",
    " * Batch SGD: m=n, correct gradient leads to precise parameter updates, but very low parameter update frequency, conversion might take very long.\n",
    " * Mini-batch SGD: compromise between stochastic GD and batch GD, batch size is a hyper parameter\n",
    "\n",
    "---\n",
    "\n",
    "This is called mini-batch stochastic gradient descent (mini-batch SGD). The term stochastic refers to the fact that each batch of data is drawn at random (stochastic is a fency word for random).\n",
    "\n",
    "Note that a variant of the mini-batch SGD algorithm would be to draw a single sample and target at each iteration, rather than drawing a batch of data. This would be true SGD (as opposed to mini-batch SGD). Alternatively, going to the opposite extreme, you could run every step on all data available, which is called batch SGD. Each update would then be more accurate, but far more expensive. The efficient compromise between these two extremes is to use mini-batches of reasonable size.\n",
    "\n"
   ]
  }
 ],
 "metadata": {
  "kernelspec": {
   "display_name": "Python 3",
   "language": "python",
   "name": "python3"
  },
  "language_info": {
   "codemirror_mode": {
    "name": "ipython",
    "version": 3
   },
   "file_extension": ".py",
   "mimetype": "text/x-python",
   "name": "python",
   "nbconvert_exporter": "python",
   "pygments_lexer": "ipython3",
   "version": "3.6.4"
  }
 },
 "nbformat": 4,
 "nbformat_minor": 2
}
