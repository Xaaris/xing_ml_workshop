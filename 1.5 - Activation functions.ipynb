{
 "cells": [
  {
   "cell_type": "markdown",
   "metadata": {},
   "source": [
    "## Activation functions\n",
    "\n",
    "Neuronal network uses activation functions for the following reasons:\n",
    "\n",
    " 1. To realize a **non-linear mapping** between the input and output data. Without activation functions a neuronal network would be a linear function and could not learn anything interesting. Think about fitting any dataset with just a straight line.\n",
    " \n",
    " 2. The last activation **transforms the output** so that it is useful for prediction and loss calculation. For example classification problems usually transform the output to be a probability. \n",
    "\n",
    "Recall that our MNIST classifier example had the following form:\n",
    "\n",
    "$$\n",
    "z = relu(W_1 \\cdot x + b_1) \\\\\n",
    "y = softmax(W_2 \\cdot z + b_2)\n",
    "$$\n",
    "\n",
    "This model is using the `relu` and `softmax` activation functions.\n",
    "\n",
    "Activation functions are always non-linear. \n",
    "\n",
    "The only exception is the `linear` activation function that ist just the identity function. This is usually used as last activation in regression problems that have no specific need to transform the output.\n"
   ]
  },
  {
   "cell_type": "markdown",
   "metadata": {},
   "source": [
    "### Rectified Linear Unit  (ReLU)\n",
    "\n",
    "The Rectified Linear Unit is the most commonly used activation function. \n",
    "\n",
    "The function returns 0 if it receives any negative input and otherwise just returns the input.\n",
    "\n",
    "It can be written as:\n",
    "\n",
    "$$ f(x)=max(0, x) $$\n",
    "\n",
    "The ReLU functions works well in adding non-linearity and is cheap to calculate.\n"
   ]
  },
  {
   "cell_type": "code",
   "execution_count": 2,
   "metadata": {},
   "outputs": [
    {
     "data": {
      "image/png": "[encoded data removed]",
      "text/plain": [
       "<matplotlib.figure.Figure at 0x10a208278>"
      ]
     },
     "metadata": {},
     "output_type": "display_data"
    }
   ],
   "source": [
    "%matplotlib inline\n",
    "import matplotlib.pyplot as plt\n",
    "import numpy as np\n",
    "\n",
    "def ReLU(x):\n",
    "    return np.maximum(0.0, x)\n",
    "\n",
    "X = np.linspace(-5, 5, 100)\n",
    "plt.plot(X, ReLU(X),'b')\n",
    "plt.xlabel('X Axis')\n",
    "plt.ylabel('Y Axis')\n",
    "plt.title('ReLU Function')\n",
    "plt.grid()\n",
    "plt.text(3, 0.8, r'$ReLU(x)=max(0.0, x)$', fontsize=16)\n",
    "plt.show()"
   ]
  },
  {
   "cell_type": "markdown",
   "metadata": {},
   "source": [
    "### Sigmoid function\n",
    "\n",
    "The [Sigmoid function](https://en.wikipedia.org/wiki/Sigmoid_function) squashes real numbers to range between [0,1].\n",
    "\n",
    "$$\n",
    "\\sigma(x) = \\frac{1}{1+e^{-x}}\n",
    "$$\n",
    "\n",
    "It is usually used as the final activation function for binary classification problems.\n",
    "\n",
    "It takes the unnormalized output of the previous layer and calculates $ P(y=1∣x) $, this is the probability that example $x$ belongs to class 1.\n"
   ]
  },
  {
   "cell_type": "code",
   "execution_count": 5,
   "metadata": {},
   "outputs": [
    {
     "data": {
      "image/png": "[encoded data removed]",
      "text/plain": [
       "<matplotlib.figure.Figure at 0x107d46cc0>"
      ]
     },
     "metadata": {},
     "output_type": "display_data"
    }
   ],
   "source": [
    "%matplotlib inline\n",
    "import matplotlib\n",
    "import numpy as np\n",
    "import matplotlib.pyplot as plt\n",
    "\n",
    "def sigma(x):\n",
    "    return 1 / (1 + np.exp(-x))\n",
    "\n",
    "X = np.linspace(-5, 5, 100)\n",
    "plt.plot(X, sigma(X),'b')\n",
    "plt.xlabel('x')\n",
    "plt.ylabel('y')\n",
    "plt.title('Sigmoid')\n",
    "plt.grid()\n",
    "plt.text(4, 0.8, r'$\\sigma(x)=\\frac{1}{1+e^{-x}}$', fontsize=16)\n",
    "plt.show()"
   ]
  },
  {
   "cell_type": "markdown",
   "metadata": {},
   "source": [
    "Example application of the sigmoid function:"
   ]
  },
  {
   "cell_type": "code",
   "execution_count": 14,
   "metadata": {},
   "outputs": [
    {
     "name": "stdout",
     "output_type": "stream",
     "text": [
      "P(y=0|x) = 0.141851\n",
      "P(y=1|x) = 0.858149\n"
     ]
    }
   ],
   "source": [
    "import numpy as np\n",
    "\n",
    "def sigma(x):\n",
    "    return 1 / (1 + np.exp(-x))\n",
    "\n",
    "# `z` is the output of the last layer\n",
    "# the model has 6 classes\n",
    "z = 1.8\n",
    "print('P(y=0|x) = %f' % (1.0-sigma(z)))\n",
    "print('P(y=1|x) = %f' % sigma(z))"
   ]
  },
  {
   "cell_type": "markdown",
   "metadata": {},
   "source": [
    "### Softmax function\n",
    "\n",
    "The [softmax function](https://en.wikipedia.org/wiki/Softmax_function) is a generalization of the sigmoid function to many values. \n",
    "\n",
    "It takes a vector of arbitrary real-valued scores and squashes it to a vector of values between 0 and 1 that sum to 1. \n",
    "\n",
    "It is usually used as the final activation function for multi-class classification problems.\n",
    "\n",
    "Let $ z = [z_1,...,z_k]$ be the output of the previous layer.\n",
    "\n",
    "$$\n",
    "softmax(z_i) = \\frac{e^{z_i}}{\\displaystyle\\sum_{i=1}^k e^{z_i}}\n",
    "$$\n",
    "\n",
    "The result is a **probability distribution** over k possible outcomes.\n",
    "\n",
    "When using the softmax function the network outputs are interpreted as the **unnormalized probabilities** for each class.\n",
    "\n",
    "$$\n",
    "P(y=i \\mid x) = \\frac{e^{z_i}}{\\displaystyle\\sum_{j=1}^k e^{z_j}}\n",
    "$$\n",
    "\n",
    "The softmax function first takes the exponent of all your numbers, which gives you unnormalized probabilities. Next they are normalized.\n",
    "\n",
    "The obvious question is why bother performing doing exponents. \n",
    "\n",
    "Why not use $ P(y=i \\mid x) = \\frac{z_i}{\\sum_{j=1}^k z_j} $ instead?\n",
    "\n",
    "The main reason is because the softmax is normally used together with the cross-entropy loss. \n",
    "\n",
    "The log-term in the cross entropy loss cancels out with the exponent, which later makes the gradient calculation easier.\n",
    "\n",
    "Lets look at an example how the softmax would be used:"
   ]
  },
  {
   "cell_type": "code",
   "execution_count": 11,
   "metadata": {},
   "outputs": [
    {
     "name": "stdout",
     "output_type": "stream",
     "text": [
      "Last layer activation: [1.0, 2.0, 3.0, 4.0, 1.0, 2.0]\n",
      "P(y=0|x) = 0.028644\n",
      "P(y=1|x) = 0.077863\n",
      "P(y=2|x) = 0.211653\n",
      "P(y=3|x) = 0.575333\n",
      "P(y=4|x) = 0.028644\n",
      "P(y=5|x) = 0.077863\n",
      "Sum probabilities 0.9999999999999999\n",
      "Predicted class: 3\n"
     ]
    }
   ],
   "source": [
    "import numpy as np\n",
    "\n",
    "def softmax(z):\n",
    "    return np.exp(z) / np.sum(np.exp(z))\n",
    "\n",
    "# assume that the model has 6 classes\n",
    "# `z` is the output of the last layer\n",
    "z = [1.0, 2.0, 3.0, 4.0, 1.0, 2.0]\n",
    "probs = softmax(z)\n",
    "print('Last layer activation:', z)\n",
    "\n",
    "for i in range(probs.shape[0]):\n",
    "    print('P(y=%d|x) = %f' % (i, probs[i]))\n",
    "\n",
    "print('Sum probabilities', probs.sum())    \n",
    "print('Predicted class:', np.argmax(probs))\n"
   ]
  }
 ],
 "metadata": {
  "kernelspec": {
   "display_name": "Python 3",
   "language": "python",
   "name": "python3"
  },
  "language_info": {
   "codemirror_mode": {
    "name": "ipython",
    "version": 3
   },
   "file_extension": ".py",
   "mimetype": "text/x-python",
   "name": "python",
   "nbconvert_exporter": "python",
   "pygments_lexer": "ipython3",
   "version": "3.6.4"
  }
 },
 "nbformat": 4,
 "nbformat_minor": 2
}
