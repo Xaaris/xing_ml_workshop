{
 "cells": [
  {
   "cell_type": "markdown",
   "metadata": {},
   "source": [
    "This notebook uses the word2vec model to find the most similar words for a set of examples words.\n",
    "\n",
    "During training we did not provide any supervised information about word semantics or word relationships.\n",
    "\n",
    "This demonstrates the ability of the model to learn implicitly the similarity of words."
   ]
  },
  {
   "cell_type": "code",
   "execution_count": 2,
   "metadata": {},
   "outputs": [],
   "source": [
    "import numpy as np\n",
    "from numpy import dot\n",
    "from gensim import matutils\n",
    "from gensim.corpora import Dictionary\n",
    "from keras.models import Model, load_model"
   ]
  },
  {
   "cell_type": "code",
   "execution_count": 14,
   "metadata": {},
   "outputs": [],
   "source": [
    "def cosine_similarity(doc_vec1, doc_vec2):\n",
    "    # Taken from: gensim.models.keyedvectors.Doc2VecKeyedVectors    \n",
    "    return dot(matutils.unitvec(doc_vec1), matutils.unitvec(doc_vec2))\n",
    "\n",
    "def token_vec(token, vocab, W):\n",
    "    token_id = vocab.token2id[token]\n",
    "    return W[token_id]\n",
    "\n",
    "def most_similar(token, vocab, W, topn=5):\n",
    "    vec = token_vec(token, vocab, W)\n",
    "    similarities = [cosine_similarity(vec, W[i]) for i in range(W.shape[0])]\n",
    "    word_indices = matutils.argsort(similarities, topn, reverse=True)\n",
    "    word_similarities = np.array(similarities)[word_indices]\n",
    "    return zip(word_indices, word_similarities)\n",
    "\n",
    "def show_similar_words(word, vocab, W, topn=10):\n",
    "    print('Words similar to \"%s\":' % word)\n",
    "    token_ids = most_similar(word, vocab, W, topn)\n",
    "    for token_id, token_similarity in token_ids:\n",
    "        print('%s (%f)' % (vocab[token_id], token_similarity))\n"
   ]
  },
  {
   "cell_type": "markdown",
   "metadata": {},
   "source": [
    "## Load word2vec  model"
   ]
  },
  {
   "cell_type": "code",
   "execution_count": 15,
   "metadata": {},
   "outputs": [
    {
     "name": "stdout",
     "output_type": "stream",
     "text": [
      "Word vector matrix shape: (10000, 100)\n"
     ]
    }
   ],
   "source": [
    "vocab_path = '/tmp/vocab.pkl'\n",
    "model_path = '/tmp/w2v_enwiki_vocab=10000_model.h5'\n",
    "\n",
    "# load vocabulary\n",
    "vocab = Dictionary.load(vocab_path)\n",
    "\n",
    "# load the Keras model\n",
    "model = load_model(model_path)\n",
    "\n",
    "# extract the word vector matrix W from the embedding layer\n",
    "embedding_layer = model.layers[1]\n",
    "W = embedding_layer.get_weights()[0]\n",
    "\n",
    "print('Word vector matrix shape:', W.shape)"
   ]
  },
  {
   "cell_type": "markdown",
   "metadata": {},
   "source": [
    "## Show word similarities\n",
    "\n",
    "Show the words most similar to a set of examples."
   ]
  },
  {
   "cell_type": "code",
   "execution_count": 16,
   "metadata": {},
   "outputs": [
    {
     "name": "stdout",
     "output_type": "stream",
     "text": [
      "Words similar to \"london\":\n"
     ]
    },
    {
     "name": "stderr",
     "output_type": "stream",
     "text": [
      "/Users/asprenger/anaconda3-5.1.0/lib/python3.6/site-packages/gensim/matutils.py:737: FutureWarning: Conversion of the second argument of issubdtype from `int` to `np.signedinteger` is deprecated. In future, it will be treated as `np.int64 == np.dtype(int).type`.\n",
      "  if np.issubdtype(vec.dtype, np.int):\n"
     ]
    },
    {
     "name": "stdout",
     "output_type": "stream",
     "text": [
      "london (1.000000)\n",
      "liverpool (0.599567)\n",
      "birmingham (0.591890)\n",
      "manchester (0.590634)\n",
      "bristol (0.568052)\n",
      "surrey (0.554686)\n",
      "edinburgh (0.554203)\n",
      "dublin (0.545324)\n",
      "oxford (0.531534)\n",
      "sussex (0.528844)\n",
      "\n",
      "Words similar to \"berlin\":\n",
      "berlin (1.000000)\n",
      "hamburg (0.796351)\n",
      "dresden (0.774030)\n",
      "munich (0.753499)\n",
      "vienna (0.748455)\n",
      "frankfurt (0.745147)\n",
      "stuttgart (0.710112)\n",
      "cologne (0.703344)\n",
      "prague (0.694123)\n",
      "leipzig (0.690584)\n",
      "\n",
      "Words similar to \"monday\":\n",
      "monday (1.000000)\n",
      "thursday (0.881363)\n",
      "tuesday (0.856933)\n",
      "wednesday (0.854535)\n",
      "saturday (0.790926)\n",
      "friday (0.786855)\n",
      "sunday (0.662439)\n",
      "pm (0.611944)\n",
      "afternoon (0.607712)\n",
      "airs (0.603803)\n",
      "\n",
      "Words similar to \"morning\":\n",
      "morning (1.000000)\n",
      "evening (0.767806)\n",
      "afternoon (0.742414)\n",
      "night (0.569338)\n",
      "midnight (0.540847)\n",
      "friday (0.522020)\n",
      "pm (0.508591)\n",
      "nights (0.488907)\n",
      "tuesday (0.487015)\n",
      "sunday (0.480688)\n",
      "\n",
      "Words similar to \"strong\":\n",
      "strong (1.000000)\n",
      "enthusiastic (0.512568)\n",
      "tremendous (0.468794)\n",
      "powerful (0.463790)\n",
      "remarkable (0.449273)\n",
      "exceptional (0.448022)\n",
      "vital (0.445421)\n",
      "weak (0.441050)\n",
      "excellent (0.438052)\n",
      "significant (0.436730)\n",
      "\n",
      "Words similar to \"blue\":\n",
      "blue (1.000000)\n",
      "yellow (0.655291)\n",
      "pink (0.625176)\n",
      "red (0.593126)\n",
      "pale (0.568691)\n",
      "purple (0.556193)\n",
      "white (0.549041)\n",
      "brownish (0.530720)\n",
      "colors (0.524500)\n",
      "grey (0.497531)\n",
      "\n"
     ]
    }
   ],
   "source": [
    "words = ['london', 'berlin', 'monday', 'morning', 'strong', 'blue']\n",
    "for word in words:\n",
    "    show_similar_words(word, vocab, W, topn=10)\n",
    "    print()"
   ]
  }
 ],
 "metadata": {
  "kernelspec": {
   "display_name": "Python 3",
   "language": "python",
   "name": "python3"
  },
  "language_info": {
   "codemirror_mode": {
    "name": "ipython",
    "version": 3
   },
   "file_extension": ".py",
   "mimetype": "text/x-python",
   "name": "python",
   "nbconvert_exporter": "python",
   "pygments_lexer": "ipython3",
   "version": "3.6.4"
  }
 },
 "nbformat": 4,
 "nbformat_minor": 2
}
