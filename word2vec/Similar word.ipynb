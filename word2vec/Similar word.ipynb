{
 "cells": [
  {
   "cell_type": "code",
   "execution_count": 1,
   "metadata": {},
   "outputs": [
    {
     "name": "stderr",
     "output_type": "stream",
     "text": [
      "/Users/asprenger/anaconda3-5.1.0/lib/python3.6/site-packages/h5py/__init__.py:36: FutureWarning: Conversion of the second argument of issubdtype from `float` to `np.floating` is deprecated. In future, it will be treated as `np.float64 == np.dtype(float).type`.\n",
      "  from ._conv import register_converters as _register_converters\n",
      "Using TensorFlow backend.\n"
     ]
    }
   ],
   "source": [
    "import numpy as np\n",
    "from numpy import dot\n",
    "from gensim import matutils\n",
    "from gensim.corpora import Dictionary\n",
    "from keras.models import Model, load_model"
   ]
  },
  {
   "cell_type": "code",
   "execution_count": 3,
   "metadata": {},
   "outputs": [],
   "source": [
    "def cosine_similarity(doc_vec1, doc_vec2):\n",
    "    # Taken from: gensim.models.keyedvectors.Doc2VecKeyedVectors    \n",
    "    return dot(matutils.unitvec(doc_vec1), matutils.unitvec(doc_vec2))\n",
    "\n",
    "def token_vec(token, vocab, W):\n",
    "    token_id = vocab.token2id[token]\n",
    "    return W[token_id]\n",
    "\n",
    "def most_similar(token, vocab, W, topn=5):\n",
    "    vec = token_vec(token, vocab, W)\n",
    "    similarities = [cosine_similarity(vec, W[i]) for i in range(W.shape[0])]\n",
    "    word_indices = matutils.argsort(similarities, topn, reverse=True)\n",
    "    word_similarities = np.array(similarities)[word_indices]\n",
    "    return zip(word_indices, word_similarities)\n",
    "\n",
    "def plot_similar_words(word, vocab, W, topn=10):\n",
    "    print('Words similar to \"%s\":' % word)\n",
    "    token_ids = most_similar(word, vocab, W, topn)\n",
    "    for token_id, token_similarity in token_ids:\n",
    "        print('%s (%f)' % (vocab[token_id], token_similarity))\n"
   ]
  },
  {
   "cell_type": "code",
   "execution_count": 4,
   "metadata": {},
   "outputs": [
    {
     "name": "stdout",
     "output_type": "stream",
     "text": [
      "W shape: (10000, 100)\n"
     ]
    }
   ],
   "source": [
    "vocab_path = '/tmp/vocab.pkl'\n",
    "model_path = '/tmp/w2v_enwiki_vocab=10000_model.h5'\n",
    "\n",
    "vocab = Dictionary.load(vocab_path)\n",
    "\n",
    "# load the Keras model\n",
    "model = load_model(model_path)\n",
    "\n",
    "# extract the word vector matrix W from the embedding layer\n",
    "embedding_layer = model.layers[1]\n",
    "W = embedding_layer.get_weights()[0]\n",
    "\n",
    "print('W shape:', W.shape)"
   ]
  },
  {
   "cell_type": "code",
   "execution_count": 5,
   "metadata": {},
   "outputs": [
    {
     "name": "stdout",
     "output_type": "stream",
     "text": [
      "Words similar to \"london\":\n"
     ]
    },
    {
     "name": "stderr",
     "output_type": "stream",
     "text": [
      "/Users/asprenger/anaconda3-5.1.0/lib/python3.6/site-packages/gensim/matutils.py:737: FutureWarning: Conversion of the second argument of issubdtype from `int` to `np.signedinteger` is deprecated. In future, it will be treated as `np.int64 == np.dtype(int).type`.\n",
      "  if np.issubdtype(vec.dtype, np.int):\n"
     ]
    },
    {
     "name": "stdout",
     "output_type": "stream",
     "text": [
      "london (1.000000)\n",
      "manchester (0.634632)\n",
      "liverpool (0.607274)\n",
      "edinburgh (0.585272)\n",
      "birmingham (0.582786)\n",
      "bristol (0.548277)\n",
      "sheffield (0.544674)\n",
      "dublin (0.534518)\n",
      "leeds (0.534092)\n",
      "brighton (0.533358)\n",
      "\n",
      "Words similar to \"berlin\":\n",
      "berlin (1.000000)\n",
      "hamburg (0.811339)\n",
      "frankfurt (0.802908)\n",
      "dresden (0.792602)\n",
      "vienna (0.773817)\n",
      "munich (0.760517)\n",
      "stuttgart (0.744570)\n",
      "cologne (0.738208)\n",
      "leipzig (0.727342)\n",
      "prague (0.723992)\n",
      "\n",
      "Words similar to \"monday\":\n",
      "monday (1.000000)\n",
      "thursday (0.885920)\n",
      "tuesday (0.878971)\n",
      "wednesday (0.870507)\n",
      "saturday (0.838684)\n",
      "friday (0.799223)\n",
      "midnight (0.658124)\n",
      "sunday (0.630880)\n",
      "utc (0.601302)\n",
      "afternoon (0.599218)\n",
      "\n",
      "Words similar to \"morning\":\n",
      "morning (1.000000)\n",
      "afternoon (0.734455)\n",
      "evening (0.709340)\n",
      "midnight (0.613252)\n",
      "night (0.573420)\n",
      "friday (0.571411)\n",
      "pm (0.562850)\n",
      "thursday (0.529090)\n",
      "saturday (0.525491)\n",
      "wednesday (0.514147)\n",
      "\n",
      "Words similar to \"strong\":\n",
      "strong (1.000000)\n",
      "significant (0.446728)\n",
      "enthusiastic (0.446149)\n",
      "important (0.444043)\n",
      "enormous (0.439374)\n",
      "powerful (0.439138)\n",
      "tremendous (0.436605)\n",
      "overwhelming (0.433243)\n",
      "obvious (0.430165)\n",
      "weak (0.428344)\n",
      "\n",
      "Words similar to \"blue\":\n",
      "blue (1.000000)\n",
      "pink (0.679220)\n",
      "pale (0.633149)\n",
      "red (0.628554)\n",
      "yellow (0.623147)\n",
      "purple (0.554727)\n",
      "brownish (0.546835)\n",
      "bright (0.542735)\n",
      "colours (0.538324)\n",
      "white (0.537960)\n"
     ]
    }
   ],
   "source": [
    "plot_similar_words('london', vocab, W, topn=10)\n",
    "print()\n",
    "plot_similar_words('berlin', vocab, W, topn=10)\n",
    "print()\n",
    "plot_similar_words('monday', vocab, W, topn=10)\n",
    "print()\n",
    "plot_similar_words('morning', vocab, W, topn=10)\n",
    "print()\n",
    "plot_similar_words('strong', vocab, W, topn=10)\n",
    "print()\n",
    "plot_similar_words('blue', vocab, W, topn=10)"
   ]
  }
 ],
 "metadata": {
  "kernelspec": {
   "display_name": "Python 3",
   "language": "python",
   "name": "python3"
  },
  "language_info": {
   "codemirror_mode": {
    "name": "ipython",
    "version": 3
   },
   "file_extension": ".py",
   "mimetype": "text/x-python",
   "name": "python",
   "nbconvert_exporter": "python",
   "pygments_lexer": "ipython3",
   "version": "3.6.4"
  }
 },
 "nbformat": 4,
 "nbformat_minor": 2
}
