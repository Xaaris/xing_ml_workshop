{
 "cells": [
  {
   "cell_type": "code",
   "execution_count": 2,
   "metadata": {},
   "outputs": [],
   "source": [
    "%matplotlib inline\n",
    "import gensim\n",
    "import matplotlib.pyplot as plt\n",
    "from sklearn.decomposition import PCA\n",
    "from sklearn.manifold import TSNE\n",
    "import numpy as np\n",
    "from numpy import dot\n",
    "from gensim import matutils\n",
    "from gensim.corpora import Dictionary\n",
    "from keras.models import Model, load_model"
   ]
  },
  {
   "cell_type": "code",
   "execution_count": 3,
   "metadata": {},
   "outputs": [
    {
     "name": "stdout",
     "output_type": "stream",
     "text": [
      "W shape: (10000, 100)\n"
     ]
    }
   ],
   "source": [
    "vocab_path = '/tmp/vocab.pkl'\n",
    "model_path = '/tmp/w2v_enwiki_vocab=10000_model.h5'\n",
    "\n",
    "vocab = Dictionary.load(vocab_path)\n",
    "\n",
    "# load the Keras model\n",
    "model = load_model(model_path)\n",
    "\n",
    "# extract the word vector matrix W from the embedding layer\n",
    "embedding_layer = model.layers[1]\n",
    "W = embedding_layer.get_weights()[0]\n",
    "\n",
    "print('W shape:', W.shape)"
   ]
  },
  {
   "cell_type": "code",
   "execution_count": 4,
   "metadata": {},
   "outputs": [],
   "source": [
    "def plot_word_vectors(vectors, alternate=True, arrows=True, x1=3, x2=3, y1=3, y2=3, title=''):\n",
    "    '''Plot word vectors. The vector dimensions are reduced using PCA.'''\n",
    "    assert len(words)%2 == 0\n",
    "    pca = PCA(n_components=2, whiten=True)\n",
    "    vectors2d = pca.fit(vectors).transform(vectors)\n",
    "    plt.figure(figsize=(6,6))\n",
    "    plt.axis([x1, x2, y1, y2])\n",
    "\n",
    "    first = True \n",
    "    for point, word in zip(vectors2d , words):\n",
    "        plt.scatter(point[0], point[1], c='r' if first else 'g')\n",
    "        plt.annotate(\n",
    "            word, \n",
    "            xy = (point[0], point[1]),\n",
    "            xytext = (-7, -6) if first else (7, -6),\n",
    "            textcoords = 'offset points',\n",
    "            ha = 'right' if first else 'left',\n",
    "            va = 'bottom',\n",
    "            size = \"x-large\"\n",
    "        )\n",
    "        first = not first if alternate else first\n",
    "\n",
    "    if arrows:\n",
    "        for i in range(0, len(words)-1, 2):\n",
    "            a = vectors2d[i][0] + 0.04\n",
    "            b = vectors2d[i][1]\n",
    "            c = vectors2d[i+1][0] - 0.04\n",
    "            d = vectors2d[i+1][1]\n",
    "            plt.arrow(a, b, c-a, d-b,\n",
    "                shape='full',\n",
    "                lw=0.1,\n",
    "                edgecolor='#bbbbbb',\n",
    "                facecolor='#bbbbbb',\n",
    "                length_includes_head=True,\n",
    "                head_width=0.08,\n",
    "                width=0.01\n",
    "            )\n",
    "\n",
    "    if title:\n",
    "        plt.title(title)\n",
    "                        \n",
    "    plt.tight_layout()\n",
    "    plt.show()\n",
    "    \n",
    "def token_vec(token, vocab, W):\n",
    "    token_id = vocab.token2id[token]\n",
    "    return W[token_id]\n",
    "    "
   ]
  },
  {
   "cell_type": "code",
   "execution_count": 5,
   "metadata": {},
   "outputs": [
    {
     "data": {
      "image/png": "[encoded data removed]",
      "text/plain": [
       "<matplotlib.figure.Figure at 0x1a23ca5dd8>"
      ]
     },
     "metadata": {},
     "output_type": "display_data"
    }
   ],
   "source": [
    "words  = ['Berlin', 'Germany', 'Washington', 'USA', 'Paris', 'France', 'Madrid', 'Spain']\n",
    "\n",
    "vectors = [token_vec(word.lower(), vocab, W) for word in words]\n",
    "\n",
    "plot_word_vectors(vectors, x1=-3, x2=3, y1=-2, y2=2, title='Visualize country/capital')"
   ]
  }
 ],
 "metadata": {
  "kernelspec": {
   "display_name": "Python 3",
   "language": "python",
   "name": "python3"
  },
  "language_info": {
   "codemirror_mode": {
    "name": "ipython",
    "version": 3
   },
   "file_extension": ".py",
   "mimetype": "text/x-python",
   "name": "python",
   "nbconvert_exporter": "python",
   "pygments_lexer": "ipython3",
   "version": "3.6.4"
  }
 },
 "nbformat": 4,
 "nbformat_minor": 2
}
