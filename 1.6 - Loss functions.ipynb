{
 "cells": [
  {
   "cell_type": "markdown",
   "metadata": {},
   "source": [
    "# Loss function\n",
    "\n",
    "The **loss function** measures a models prediction error. \n",
    "\n",
    "More specifically it calculates the difference between the models prediction and the true label (classification problem) or true value (regression problem). \n",
    "\n",
    "The loss function is also called **error function** or **cost function**. \n",
    "\n",
    "When we talk about \"training the model\" or \"optimizing the model\" we actually mean minimizing the loss function.\n",
    "\n",
    "Let $\\hat y = f(x)$ be a model where $x$ is the input and $\\hat y$ is the predicted value. \n",
    "\n",
    "Let $L(y, \\hat y) = L(y, f(x))$ be the loss function for a single example $x$, where $y$ is the true label or true value.\n",
    "\n",
    "The loss is always positive, and should be zero only for cases where the network’s output is correct.\n",
    "\n",
    "The loss of a set of examples $x = \\{x_1,...,x_n\\}$ is the average of the individual losses:\n",
    "\n",
    "$$\n",
    "L = \\frac{1}{N}\\sum_{i=1}^N L(\\hat y_i, y_i)\n",
    "$$\n",
    "\n",
    "Note that the loss does not have a unit, it is just a number.\n",
    "\n",
    "The loss functions is useful because:\n",
    " * It provides a measure for model performance\n",
    " * It helps to monitor the training progress\n",
    "   * if the loss does not change any more the model has stopped learning\n",
    "   * if the loss is very volatile the learning process is unstable\n",
    " * It allows to select the best model from a set of model snapshots\n",
    " * The gradient of the loss function informs the optimizer how to update model parameters to reduce the prediction error.\n",
    " \n",
    "There are many different loss functions available, the choice depends on the type of prediction problem. \n",
    "\n",
    "We will look at the following loss functions:\n",
    "\n",
    " * Cross-entropy loss\n",
    " * Mean squared error (MSE)\n",
    " * Mean average error (MAE)"
   ]
  },
  {
   "cell_type": "markdown",
   "metadata": {},
   "source": [
    "## Cross-entropy loss\n",
    "\n",
    "The **cross-entropy loss** is used when a model outputs a binominal or multinomial probability distribution. \n",
    "\n",
    "This loss function is usually used in **classification problems**.\n",
    "\n",
    "Given an example $x$ let $y = [y_1,...,y_n]$ be a vector representing the true multinomial distribution and let $ \\hat y = [\\hat y_1,..., \\hat y_n]$ be the networks output that has been transformed by the *softmax* function. \n",
    "\n",
    "In general the cross entropy loss measures the **dissimilarity** between the distributions $y$ and $\\hat y$.\n",
    "\n",
    "It is defined as:\n",
    "\n",
    "$$\n",
    "L(y, \\hat y) = - y \\cdot log(\\hat y) = - \\sum_{i=1}^n y_i \\ log(\\hat y_i)\n",
    "$$\n",
    "\n",
    "Note that $\\cdot$ is the dot product.\n",
    "\n",
    "Because each example $x$ has a single true label, $y$ is a **one-hot** vector. \n",
    "\n",
    "For example if there are 5 classes and the true label is 2 than $ y = [0, 1, 0, 0, 0]$.\n",
    "\n",
    "Because $y$ is a one-hot vector the cross-entropy can be simplified to:\n",
    "\n",
    "$$\n",
    "L(y, \\hat y) = - log(\\hat y_t)\n",
    "$$\n",
    "\n",
    "where t is the true label.\n",
    "\n",
    "The cross entropy loss depends only on the probability of the correct class. \n",
    "\n",
    "The loss is independent of how the remaining probability is split between incorrect classes.\n",
    "\n",
    "Lets look at a Python example how cross-entropy loss is calculated:\n"
   ]
  },
  {
   "cell_type": "code",
   "execution_count": 1,
   "metadata": {},
   "outputs": [
    {
     "name": "stdout",
     "output_type": "stream",
     "text": [
      "y_hat = [0.7 0.2 0.1]\n",
      "\n",
      "true_label = 0\n",
      "P(y=0|x) = 0.70\n",
      "cross entropy loss = 0.3567\n",
      "\n",
      "true_label = 1\n",
      "P(y=1|x) = 0.20\n",
      "cross entropy loss = 1.6094\n",
      "\n",
      "true_label = 2\n",
      "P(y=2|x) = 0.10\n",
      "cross entropy loss = 2.3026\n",
      "\n"
     ]
    }
   ],
   "source": [
    "import numpy as np\n",
    "\n",
    "def cross_entropy(y, y_hat):\n",
    "    return -np.dot(y, np.log(y_hat))\n",
    "\n",
    "def one_hot(label, nb_classes):\n",
    "    y = np.zeros(nb_classes)\n",
    "    y[label] = 1\n",
    "    return y\n",
    "\n",
    "# lets y_hat be a model prediction for some input x\n",
    "y_hat = np.array([0.7, 0.2, 0.1])\n",
    "nb_classes = y_hat.shape[0]\n",
    "\n",
    "# calculate the loss for different true labels\n",
    "print('y_hat = %s' % y_hat)\n",
    "print()\n",
    "for i in range(nb_classes):\n",
    "    y = one_hot(i, nb_classes)\n",
    "    print('true_label = %i' % i)\n",
    "    print('P(y=%d|x) = %.2f' % (i, y_hat[i]))\n",
    "    print('cross entropy loss = %.4f' % cross_entropy(y, y_hat))\n",
    "    print()"
   ]
  },
  {
   "cell_type": "markdown",
   "metadata": {},
   "source": [
    "Because the scores $\\hat y$ have been transformed using the *softmax* function and represent a conditional probability distribution, increasing the probability of the correct class means decreasing the mass assigned to all the other classes.\n",
    "\n",
    "**Note:** The input to a cross-entropy loss must be a probability distribution. It can not be used with unnormalized scores: \n",
    " * the log function is not defined for negative numbers\n",
    " * for scores > 1 the loss becomes negative."
   ]
  },
  {
   "cell_type": "markdown",
   "metadata": {},
   "source": [
    "Lets take a look at a plot of the cross-entropy loss:"
   ]
  },
  {
   "cell_type": "code",
   "execution_count": 2,
   "metadata": {},
   "outputs": [
    {
     "data": {
      "image/png": "[encoded data removed]",
      "text/plain": [
       "<Figure size 432x288 with 1 Axes>"
      ]
     },
     "metadata": {
      "needs_background": "light"
     },
     "output_type": "display_data"
    }
   ],
   "source": [
    "%matplotlib inline\n",
    "import matplotlib.pyplot as plt\n",
    "import numpy as np\n",
    "y_hat_t = np.arange(0.001, 1.0, 0.005)\n",
    "loss = -np.log(y_hat_t)\n",
    "plt.plot(y_hat_t, loss)\n",
    "plt.title('Cross entropy loss')\n",
    "plt.ylabel('$L(y,\\hat y)$')\n",
    "plt.xlabel('predicted probability of the true class')\n",
    "plt.show()"
   ]
  },
  {
   "cell_type": "markdown",
   "metadata": {},
   "source": [
    "We can see from the plot that the cross-entropy loss behaves as expected. When the predicted probability of the true class goes to 1 the loss goes to 0. When the predicted probability of the true class goes to 0, the loss goes to infinity.\n"
   ]
  },
  {
   "cell_type": "markdown",
   "metadata": {},
   "source": [
    "So far we have looked at cross-entropy loss for a multi-class classification problem.\n",
    "\n",
    "Now lets look how cross-entropy loss is calculated for a **binary classification** problem.\n",
    "\n",
    "In this case the network ouput is transformed by a **sigmoid function**. \n",
    "\n",
    "The true label $y \\in [0,1]$ and $\\hat y = p(y=1 \\mid x)$ are scalars.\n",
    "\n",
    "\n",
    " \n",
    "\n",
    "In this case the cross entropy is calculated like this:\n",
    "\n",
    "$$\n",
    "L(y, \\hat y) = -y \\ log(\\hat y) + (1-y) \\ log(1-\\hat y)\n",
    "$$\n",
    "\n",
    "Notice that the terms $-y$ and $(1-y)$ are **indicator functions**.\n",
    "\n",
    "One indicator function always evaluates to 1 and the other evaluates to 0, this switches between the two loss terms."
   ]
  },
  {
   "cell_type": "markdown",
   "metadata": {},
   "source": [
    "Lets plot the loss function for the two cases:"
   ]
  },
  {
   "cell_type": "code",
   "execution_count": 3,
   "metadata": {},
   "outputs": [
    {
     "data": {
      "image/png": "[encoded data removed]",
      "text/plain": [
       "<Figure size 432x288 with 1 Axes>"
      ]
     },
     "metadata": {
      "needs_background": "light"
     },
     "output_type": "display_data"
    }
   ],
   "source": [
    "%matplotlib inline\n",
    "import matplotlib.pyplot as plt\n",
    "import numpy as np\n",
    "\n",
    "y_hat = np.arange(0.001, 1.0, 0.005)\n",
    "loss_y_is_one = -np.log(y_hat)\n",
    "loss_y_is_zero = -np.log(1 - y_hat)\n",
    "plt.plot(y_hat, loss_y_is_one, label='loss for y=1')\n",
    "plt.plot(y_hat, loss_y_is_zero, label='loss for y=0')\n",
    "\n",
    "plt.title('Cross entropy loss')\n",
    "plt.ylabel('$L(y,\\hat y)$')\n",
    "plt.xlabel('$\\hat y$')\n",
    "plt.legend()\n",
    "plt.show()"
   ]
  },
  {
   "cell_type": "markdown",
   "metadata": {},
   "source": [
    "Again the cross entropy loss behaves as expected\n",
    " * For the case $y=1$ the loss goes to 0 when $\\hat y$ goes to 1\n",
    " * For the case $y=0$ the loss goes to 0 when $\\hat y$ goes to 0"
   ]
  },
  {
   "cell_type": "markdown",
   "metadata": {},
   "source": [
    "## Mean Square Error (MSE)\n",
    "\n",
    "Mean Square Error (MSE) is commonly used as loss function for regression problems. \n",
    "\n",
    "Keep in mind that for regression problems the model output is simply a scalar and not a probability.\n",
    "\n",
    "MSE is the sum of squared distances between the target values and predicted values.\n",
    "\n",
    "$$\n",
    "MSE(y, \\hat y) = \\frac{1}{N} \\sum_i^N(y_i - \\hat y_i)^2\n",
    "$$\n",
    "\n",
    "MSE is also called L2 loss.\n"
   ]
  },
  {
   "cell_type": "code",
   "execution_count": 4,
   "metadata": {},
   "outputs": [
    {
     "data": {
      "image/png": "[encoded data removed]",
      "text/plain": [
       "<Figure size 432x288 with 1 Axes>"
      ]
     },
     "metadata": {
      "needs_background": "light"
     },
     "output_type": "display_data"
    }
   ],
   "source": [
    "%matplotlib inline\n",
    "import matplotlib.pyplot as plt\n",
    "import numpy as np\n",
    "x = np.arange(0.0, 2.0, 0.005)\n",
    "y = x**2\n",
    "plt.plot(x,y)\n",
    "plt.title('Mean square error (y=0.0)')\n",
    "plt.ylabel('$L(y,\\hat y)$')\n",
    "plt.xlabel('Error')\n",
    "plt.show()"
   ]
  },
  {
   "cell_type": "markdown",
   "metadata": {},
   "source": [
    "The nice thing about MSE is that during optimization the parameter updates are getting smaller as we are getting nearer to the minimum. \n",
    "\n",
    "The problem is that the loss function is sensitive to outlier examples because of the squared term."
   ]
  },
  {
   "cell_type": "markdown",
   "metadata": {},
   "source": [
    "## Mean absolute error (MAE)\n",
    "\n",
    "Mean Absolute Error (MAE) is another loss function used for regression problems. \n",
    "\n",
    "MAE is the sum of absolute differences between the target values and predicted values.\n",
    "\n",
    "$$\n",
    "MAE(y, \\hat y) = \\frac{1}{N} \\sum_i^N \\mid y_i - \\hat y_i \\mid\n",
    "$$\n",
    "\n",
    "MAE is also called L1 loss.\n"
   ]
  },
  {
   "cell_type": "code",
   "execution_count": 5,
   "metadata": {},
   "outputs": [
    {
     "data": {
      "image/png": "[encoded data removed]",
      "text/plain": [
       "<Figure size 432x288 with 1 Axes>"
      ]
     },
     "metadata": {
      "needs_background": "light"
     },
     "output_type": "display_data"
    }
   ],
   "source": [
    "import matplotlib.pyplot as plt\n",
    "import numpy as np\n",
    "x = np.arange(0.0, 2.0, 0.005)\n",
    "y = abs(x)\n",
    "plt.plot(x,y)\n",
    "plt.title('Mean absolute error')\n",
    "plt.ylabel('$L(y,\\hat y)$')\n",
    "plt.xlabel('Error')\n",
    "plt.show()"
   ]
  },
  {
   "cell_type": "markdown",
   "metadata": {},
   "source": [
    "Compared to MSE, MAE is not sensitive to outliers in the train data."
   ]
  }
 ],
 "metadata": {
  "kernelspec": {
   "display_name": "Python 3",
   "language": "python",
   "name": "python3"
  },
  "language_info": {
   "codemirror_mode": {
    "name": "ipython",
    "version": 3
   },
   "file_extension": ".py",
   "mimetype": "text/x-python",
   "name": "python",
   "nbconvert_exporter": "python",
   "pygments_lexer": "ipython3",
   "version": "3.8.6"
  }
 },
 "nbformat": 4,
 "nbformat_minor": 4
}
