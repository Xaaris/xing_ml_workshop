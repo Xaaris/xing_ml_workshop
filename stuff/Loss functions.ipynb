{
 "cells": [
  {
   "cell_type": "markdown",
   "metadata": {},
   "source": [
    "## Softmax function\n",
    "\n",
    "The output scores of the neuronal network are interpreted as **unnormalized log probabilities** of the classes.\n",
    "\n",
    "Lets break this down:\n",
    " * They are unnormalized because the outputs are signed double values without constraints\n",
    " * The log() is introduces because it does not change the outcome but makes the math easier\n",
    " \n",
    "If s is a unnormalized log probability, than $e^s$ is the unnormalized probability.\n",
    "\n",
    "By normalization we get the probability of a class:\n",
    "\n",
    "$$\n",
    "P(Y=k | X=x_i) = \\frac{e^{s_k}}{\\sum_j e^{s_j}}\n",
    "$$\n",
    "\n",
    "This function is called the **softmax function**.\n",
    "\n"
   ]
  },
  {
   "cell_type": "markdown",
   "metadata": {},
   "source": [
    "## Binary cross-entropy loss vs. categorical cross-entropy loss\n",
    "\n",
    "[Source]((http://stats.stackexchange.com/questions/260505/machine-learning-should-i-use-a-categorical-cross-entropy-or-binary-cross-entro)\n",
    "\n",
    "**Binominal cross-entropy loss** is a special case of **multinominal cross-entropy loss** with m=2:\n",
    "\n",
    "$$ L(\\theta) = -\\frac1n \\sum_{i=1}^n [ y_i log(p_i) + (1-y_i) log(1 - p_i)] = -\\frac1N \\sum_{i=1}^n \\sum_{j=1}^m y_{ij} log(p_{ij})$$\n",
    "\n",
    "n: number of examples<br>\n",
    "m: number of classes<br>\n",
    "$y_i$: true label of sample $x_i$, binary value for 2 classes, 1-hot vector for more than 2 classes<br>\n",
    "$p_{ij} \\in (0,1)$: prediction for $x_i$, $ \\sum_j p_{ij} = 1$\n",
    "\n",
    "Note that the cross-entropy loss has a minus sign because the log-function is negativ on the (0,1) interval.\n",
    "\n",
    "The binary cross-entropy function is the usual loss function for a neuronal network with a sigmoid output and the multinominal cross-entropy function is the usual loss function for a neuronal network with a softmax output."
   ]
  }
 ],
 "metadata": {
  "kernelspec": {
   "display_name": "Python 3",
   "language": "python",
   "name": "python3"
  },
  "language_info": {
   "codemirror_mode": {
    "name": "ipython",
    "version": 3
   },
   "file_extension": ".py",
   "mimetype": "text/x-python",
   "name": "python",
   "nbconvert_exporter": "python",
   "pygments_lexer": "ipython3",
   "version": "3.6.4"
  }
 },
 "nbformat": 4,
 "nbformat_minor": 2
}
