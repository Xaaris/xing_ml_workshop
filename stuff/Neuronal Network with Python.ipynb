{
 "cells": [
  {
   "cell_type": "markdown",
   "metadata": {},
   "source": [
    "[Source](http://www.wildml.com/2015/09/implementing-a-neural-network-from-scratch/)"
   ]
  },
  {
   "cell_type": "code",
   "execution_count": 54,
   "metadata": {},
   "outputs": [
    {
     "name": "stdout",
     "output_type": "stream",
     "text": [
      "Plot the dataset\n"
     ]
    }
   ],
   "source": [
    "%matplotlib inline\n",
    "\n",
    "import matplotlib.pyplot as plt\n",
    "import numpy as np\n",
    "import pandas as pd\n",
    "import sklearn\n",
    "import sklearn.datasets\n",
    "import sklearn.linear_model\n",
    "import matplotlib\n",
    "    \n",
    "def plot_decision_boundary(X, y, pred_func):\n",
    "    # Find the boundaries of the plot and give it some margin\n",
    "    margin = 0.5\n",
    "    x_min = X[:, 0].min() - margin\n",
    "    x_max = X[:, 0].max() + margin\n",
    "    y_min = X[:, 1].min() - margin\n",
    "    y_max = X[:, 1].max() + margin\n",
    "    step = 0.01\n",
    "    # Generate a grid of points with some step size\n",
    "    xx, yy = np.meshgrid(np.arange(x_min, x_max, step), np.arange(y_min, y_max, step))    \n",
    "    # Predict the function value for the whole gid\n",
    "    Z = pred_func(np.c_[xx.ravel(), yy.ravel()])\n",
    "    Z = Z.reshape(xx.shape)\n",
    "    # Plot the contour and training examples\n",
    "    plt.contourf(xx, yy, Z, cmap=plt.cm.Spectral)\n",
    "    plt.scatter(X[:, 0], X[:, 1], c=y, cmap=plt.cm.Spectral)    \n",
    "    \n",
    "matplotlib.rcParams['figure.figsize'] = (10.0, 8.0)\n",
    "\n",
    "# Generate a dataset and plot it\n",
    "np.random.seed(100)\n",
    "X_train, y_train = sklearn.datasets.make_moons(200, noise=0.20)\n",
    "\n",
    "# X_train is a (200, 2) matrix\n",
    "# y_train is a binary vector with 200 elements\n",
    "\n",
    "print(\"Plot the dataset\")\n",
    "#plt.scatter(X_train[:,0], X_train[:,1], s=40, c=y_train, cmap=plt.cm.Spectral)\n",
    "#plt.show()"
   ]
  },
  {
   "cell_type": "markdown",
   "metadata": {},
   "source": [
    "The model will be implemented as a neuronal network with one hidden layer.\n",
    "\n",
    "Forward pass:\n",
    "\n",
    "$$\n",
    "z_1 = xW_1 + b_1 \\\\\n",
    "a_1 = tanh(z_1) \\\\\n",
    "z_2 = a_1W_2 + b_2 \\\\\n",
    "a2 = \\hat y = softmax(z_2)\n",
    "$$\n",
    "\n",
    "$W_1, b_1, W_2, b_2$ are parameters of the model that we need to learn. The parameters are learned by minimizing a loss function. A usual choice for the softmax output is the **categorical cross-entropy loss**:\n",
    "\n",
    "$$ L(y, \\hat y) = -\\frac1N \\sum_{i=1}^n \\sum_{j=1}^m y_{ij} log(\\hat y_{ij})$$\n",
    "\n",
    "n: number of examples<br>\n",
    "m: number of classes<br>\n",
    "$y_i$: true label of sample $x_i$, 1-hot vector<br>\n",
    "$\\hat y_{i} \\in (0,1)$: vector with predictions for $x_i$, $ \\sum_j \\hat y_{ij} = 1$\n",
    "\n",
    "We use **gradient descent** to find parameters that minimize the loss function. \n",
    "\n",
    "For gradient descent we need the partial gradients of the loss function: $ \\frac{\\partial L}{\\partial W1}, \\frac{\\partial L}{\\partial b1}, \\frac{\\partial L}{\\partial W2}, \\frac{\\partial L}{\\partial b2} $\n",
    "\n",
    "The gradients are calculated using **backpropagation**.\n",
    "\n",
    "Applying the backpropagation algorithm we find the following:\n",
    "\n",
    "$$\n",
    "\\partial_3 = \\hat y - y \\\\\n",
    "\\partial_2 = (1- tanh^2(z_1)) \\circ \\partial_3 W_2^T \\\\\n",
    "\\frac{\\partial L}{\\partial W_2} = a_1^T \\partial_3\n",
    "\\frac{\\partial L}{\\partial b_2} = \\partial_3 \\\\\n",
    "\\frac{\\partial L}{\\partial W_1} = x_T \\partial_2 \\\\\n",
    "\\frac{\\partial L}{\\partial b_1} = \\partial_2 \\\\\n",
    "$$"
   ]
  },
  {
   "cell_type": "code",
   "execution_count": 35,
   "metadata": {},
   "outputs": [],
   "source": [
    "num_examples = len(X_train) # training set size\n",
    "nn_input_dim = 2 # input layer dimensionality\n",
    "nn_output_dim = 2 # output layer dimensionality\n",
    " \n",
    "# Gradient descent parameters (I picked these by hand)\n",
    "epsilon = 0.01 # learning rate for gradient descent\n",
    "reg_lambda = 0.01 # regularization strength\n"
   ]
  },
  {
   "cell_type": "code",
   "execution_count": 44,
   "metadata": {
    "collapsed": true
   },
   "outputs": [],
   "source": [
    "def calculate_loss(X, y, model):\n",
    "    ''' evaluate the total loss on the dataset '''\n",
    "    W1, b1, W2, b2 = model['W1'], model['b1'], model['W2'], model['b2']\n",
    "    # Forward propagation\n",
    "    z1 = X.dot(W1) + b1\n",
    "    a1 = np.tanh(z1)\n",
    "    z2 = a1.dot(W2) + b2  # a (nb_examples, nb_classes) matrix \n",
    "    exp_scores = np.exp(z2)\n",
    "    probs = exp_scores / np.sum(exp_scores, axis=1, keepdims=True)\n",
    "    # Calculating the loss\n",
    "    corect_logprobs = -np.log(probs[range(num_examples), y])\n",
    "    data_loss = np.sum(corect_logprobs)\n",
    "    # Add regulatization term to loss (optional)\n",
    "    data_loss += reg_lambda/2 * (np.sum(np.square(W1)) + np.sum(np.square(W2)))\n",
    "    return 1./num_examples * data_loss"
   ]
  },
  {
   "cell_type": "code",
   "execution_count": 50,
   "metadata": {
    "collapsed": true
   },
   "outputs": [],
   "source": [
    "# Helper function to predict an output (0 or 1)\n",
    "def predict(X, model):\n",
    "    W1, b1, W2, b2 = model['W1'], model['b1'], model['W2'], model['b2']\n",
    "    # Forward propagation\n",
    "    z1 = X.dot(W1) + b1\n",
    "    a1 = np.tanh(z1)\n",
    "    z2 = a1.dot(W2) + b2\n",
    "    exp_scores = np.exp(z2)\n",
    "    probs = exp_scores / np.sum(exp_scores, axis=1, keepdims=True)\n",
    "    return np.argmax(probs, axis=1)"
   ]
  },
  {
   "cell_type": "code",
   "execution_count": 45,
   "metadata": {
    "collapsed": true
   },
   "outputs": [],
   "source": [
    "def build_model(X, y, nn_hdim, num_passes=20000, print_loss=False):\n",
    "    # Initialize the parameters to random values. We need to learn these.\n",
    "    np.random.seed(0)\n",
    "    W1 = np.random.randn(nn_input_dim, nn_hdim) / np.sqrt(nn_input_dim)\n",
    "    b1 = np.zeros((1, nn_hdim))\n",
    "    W2 = np.random.randn(nn_hdim, nn_output_dim) / np.sqrt(nn_hdim)\n",
    "    b2 = np.zeros((1, nn_output_dim))\n",
    "    \n",
    "    # This is what we return at the end\n",
    "    model = {}\n",
    "    \n",
    "    # Gradient descent. For each batch...\n",
    "    for i in xrange(0, num_passes):\n",
    "        \n",
    "        # Forward propagation\n",
    "        z1 = X.dot(W1) + b1\n",
    "        a1 = np.tanh(z1)\n",
    "        z2 = a1.dot(W2) + b2\n",
    "        exp_scores = np.exp(z2)\n",
    "        probs = exp_scores / np.sum(exp_scores, axis=1, keepdims=True)\n",
    "        \n",
    "        # Backpropagation\n",
    "        delta3 = probs\n",
    "        delta3[range(num_examples), y] -= 1\n",
    "        dW2 = (a1.T).dot(delta3)\n",
    "        db2 = np.sum(delta3, axis=0, keepdims=True)\n",
    "        delta2 = delta3.dot(W2.T) * (1 - np.power(a1, 2))\n",
    "        dW1 = np.dot(X.T, delta2)\n",
    "        db1 = np.sum(delta2, axis=0)\n",
    "        \n",
    "        # Add regularization terms (b1 and b2 don't have regularization terms)\n",
    "        dW2 += reg_lambda * W2\n",
    "        dW1 += reg_lambda * W1\n",
    "        \n",
    "        # Gradient descent parameter update\n",
    "        W1 += -epsilon * dW1\n",
    "        b1 += -epsilon * db1\n",
    "        W2 += -epsilon * dW2\n",
    "        b2 += -epsilon * db2\n",
    "        \n",
    "        # Assign new parameters to the model\n",
    "        model = { 'W1': W1, 'b1': b1, 'W2': W2, 'b2': b2}\n",
    "         \n",
    "        # Optionally print the loss.\n",
    "        # This is expensive because it uses the whole dataset, so we don't want to do it too often.\n",
    "        if print_loss and i % 1000 == 0:\n",
    "          print(\"Loss after iteration %i: %f\" %(i, calculate_loss(X, y, model)))\n",
    "     \n",
    "    return model\n",
    "        "
   ]
  },
  {
   "cell_type": "code",
   "execution_count": 46,
   "metadata": {},
   "outputs": [
    {
     "name": "stdout",
     "output_type": "stream",
     "text": [
      "Loss after iteration 0: 0.425794\n",
      "Loss after iteration 1000: 0.042413\n",
      "Loss after iteration 2000: 0.040681\n",
      "Loss after iteration 3000: 0.040155\n",
      "Loss after iteration 4000: 0.039905\n",
      "Loss after iteration 5000: 0.039754\n",
      "Loss after iteration 6000: 0.039651\n",
      "Loss after iteration 7000: 0.039575\n",
      "Loss after iteration 8000: 0.039517\n",
      "Loss after iteration 9000: 0.039471\n",
      "Loss after iteration 10000: 0.039434\n",
      "Loss after iteration 11000: 0.039404\n",
      "Loss after iteration 12000: 0.039380\n",
      "Loss after iteration 13000: 0.039360\n",
      "Loss after iteration 14000: 0.039344\n",
      "Loss after iteration 15000: 0.039330\n",
      "Loss after iteration 16000: 0.039319\n",
      "Loss after iteration 17000: 0.039310\n",
      "Loss after iteration 18000: 0.039302\n",
      "Loss after iteration 19000: 0.039295\n"
     ]
    }
   ],
   "source": [
    "# Build a model with a 3-dimensional hidden layer\n",
    "model = build_model(X_train, y_train, 3, print_loss=True)"
   ]
  },
  {
   "cell_type": "code",
   "execution_count": 59,
   "metadata": {},
   "outputs": [],
   "source": [
    "y_pred = predict(X_train, model)"
   ]
  },
  {
   "cell_type": "code",
   "execution_count": 60,
   "metadata": {},
   "outputs": [
    {
     "name": "stdout",
     "output_type": "stream",
     "text": [
      "Accuracy: 0.985\n"
     ]
    }
   ],
   "source": [
    "from sklearn.metrics import accuracy_score\n",
    "acc = accuracy_score(y_train, y_pred)\n",
    "print(\"Accuracy: {}\".format(acc))"
   ]
  },
  {
   "cell_type": "code",
   "execution_count": 61,
   "metadata": {},
   "outputs": [
    {
     "name": "stdout",
     "output_type": "stream",
     "text": [
      "Confusion matrix:\n",
      "Predicted   0   1\n",
      "True             \n",
      "0          99   1\n",
      "1           2  98\n"
     ]
    }
   ],
   "source": [
    "from sklearn.metrics import confusion_matrix\n",
    "print(\"Confusion matrix:\")\n",
    "confusion_matrix = pd.crosstab(y_train, y_pred, rownames=['True'], colnames=['Predicted'], margins=False)\n",
    "print(confusion_matrix)\n"
   ]
  },
  {
   "cell_type": "code",
   "execution_count": 64,
   "metadata": {},
   "outputs": [
    {
     "data": {
      "image/png": "[encoded data removed]",
      "text/plain": [
       "<matplotlib.figure.Figure at 0x116ed86d0>"
      ]
     },
     "metadata": {},
     "output_type": "display_data"
    }
   ],
   "source": [
    "\n",
    "predict_fn = lambda x: predict(x, model)\n",
    "plot_decision_boundary(X_train, y_train, predict_fn)"
   ]
  }
 ],
 "metadata": {
  "anaconda-cloud": {},
  "kernelspec": {
   "display_name": "Python 3",
   "language": "python",
   "name": "python3"
  },
  "language_info": {
   "codemirror_mode": {
    "name": "ipython",
    "version": 3
   },
   "file_extension": ".py",
   "mimetype": "text/x-python",
   "name": "python",
   "nbconvert_exporter": "python",
   "pygments_lexer": "ipython3",
   "version": "3.6.4"
  }
 },
 "nbformat": 4,
 "nbformat_minor": 1
}
