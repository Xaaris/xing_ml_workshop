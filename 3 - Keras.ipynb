{
 "cells": [
  {
   "cell_type": "markdown",
   "metadata": {},
   "source": [
    "[Keras](https://keras.io/) is an API that provides high-level building blocks for developing machine learning models.\n",
    "\n",
    "Keras does not implement low level operations like tensor manipulations and differentiation itself but instead delegates them to a backend engine. Several different backend engines can be plugged into Keras:\n",
    "\n",
    " * [TensorFlow (Google)](https://www.tensorflow.org/)\n",
    " * [Theano (MILA lab, Universite of Montreal)](http://deeplearning.net/software/theano/)\n",
    " * [Microsoft Cognitive Toolkit (CNTK)](https://github.com/Microsoft/CNTK)\n",
    "\n",
    "Keras models can be run with any of these backends without having to change the code.\n",
    "\n",
    "Keras is able to run seamlessly on both CPUs and GPUs.\n",
    "\n",
    "A typical deployment stack looks like this: \n",
    " \n",
    "<img src=\"images/keras_stack.png\" height=\"250\" width=\"400\"/> \n",
    "\n",
    " * [CUDA](https://developer.nvidia.com/cuda-toolkit) is a parallel computing API for Nvidia devices\n",
    " * [cuDNN (Deep Neural Network library)](https://developer.nvidia.com/cudnn) is a library that provides primitives for neural networks \n",
    " * [BLAS (Basic Linear Algebra Subprograms)](http://www.netlib.org/blas/) is a library with basic vector and matrix operations\n",
    " * [Eigen](http://eigen.tuxfamily.org/index.php?title=Main_Page) is library for linear algebra\n",
    " \n"
   ]
  },
  {
   "cell_type": "markdown",
   "metadata": {},
   "source": [
    "## Anatomy of a Keras model\n",
    "\n",
    "A Keras model contains the following objects:\n",
    "\n",
    " * Layers, which are combined into a model\n",
    " * The input data and labels\n",
    " * The loss function, which defines the feedback signal used for learning\n",
    " * The optimizer, which determines how learning proceeds\n",
    "\n",
    "<img src=\"images/keras_model.png\" height=\"250\" width=\"400\"/> \n",
    "\n",
    "## Layers\n",
    "\n",
    "A layer is a function that takes as input one or more tensors and that outputs one or more tensors.\n",
    "\n",
    "Some layers are stateless, but more frequently layers have a state: the layer’s weights, one or several tensors learned with stochastic gradient descent.\n",
    "\n",
    "Examples of stateless layers:\n",
    " * Dropout: regularization to reducing overfitting in models\n",
    " * Merge layers: concatenate, sum, mean, min, max etc.\n",
    "\n",
    "Examples of stateful layers:\n",
    " * Dense layers\n",
    " * Recurrent layers\n",
    " * Convolution layers\n",
    "\n",
    "Different layers are appropriate for different types of data processing:\n",
    "\n",
    " * Vector data, stored in 2D tensors of shape (batch_size, features), is usually processed by dense layers\n",
    " * Sequence data, stored in 3D tensors of shape (batch_size, timesteps, features), is usually processed by recurrent layers\n",
    " * Image data, stored in 4D tensors of shape (batch_size, height, width, colors), is usually processed by convolution layers\n",
    "\n",
    "You can think of layers as LEGO bricks.\n",
    "\n",
    "Models are built by clipping together compatible layers to form useful data-transformation pipelines.\n",
    "\n",
    "The notion of layer compatibility here refers specifically to the fact that every layer will only accept input tensors of a certain shape and will return output tensors of a certain shape\n",
    "\n",
    "A model is a directed, acyclic graph of layers. The most common instance is a linear stack of layers, mapping a single input to a single output. More complex models will have multiple inputs/outputs or short-cut connections.\n",
    "\n",
    "For each problem class usually exist one or more standard model architectures. It is always a good idea to start with one of this models.\n",
    "\n",
    "In general picking the right model architecture is more an art than a science.\n"
   ]
  }
 ],
 "metadata": {
  "kernelspec": {
   "display_name": "Python 3",
   "language": "python",
   "name": "python3"
  },
  "language_info": {
   "codemirror_mode": {
    "name": "ipython",
    "version": 3
   },
   "file_extension": ".py",
   "mimetype": "text/x-python",
   "name": "python",
   "nbconvert_exporter": "python",
   "pygments_lexer": "ipython3",
   "version": "3.6.4"
  }
 },
 "nbformat": 4,
 "nbformat_minor": 2
}
