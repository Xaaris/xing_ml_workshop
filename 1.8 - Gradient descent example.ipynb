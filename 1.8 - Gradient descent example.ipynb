{
 "cells": [
  {
   "cell_type": "markdown",
   "metadata": {},
   "source": [
    "## Model optimization example\n",
    "\n",
    "This is an example for optimizing a regression model using gradient descent.\n",
    "\n",
    "Consider the following function: \n",
    "\n",
    "$$ f(x) = w_0 x_0^2 + w_1 x_1^2 + b $$\n",
    "\n",
    "where $x=[x_0, x_1]$, $w=[w_0, w_1]$ and $b$ is a scalar. The value of $f(x)$ is a scalar.\n",
    "\n",
    "Lets assume we have a dataset of examples $(x, y)$ that has been generated from $y = f(x)$.\n",
    "\n",
    "The goal is to find parameters $\\theta = \\{ w_0, w_1, b \\}$ so that $f(x)$ fits the datset as good as possible.\n",
    "\n",
    "More formally we'll use a **mean square error** loss function:\n",
    "\n",
    "$$L(x, y, \\theta) = (f(x;\\theta) - y)^2$$\n",
    "\n",
    "The goal is to find parameters $\\theta$ that minimize the loss function with regard to our dataset.\n",
    "\n",
    "## Partial derivatives\n",
    "\n",
    "The partial derivatives of $f(x)$ w.r.t. the parameters $w$ and $b$ are:\n",
    "\n",
    "$ \\frac{\\partial}{\\partial w_0} f(x) = x_o^2$ \n",
    "\n",
    "$ \\frac{\\partial}{\\partial w_1} f(x) = x_1^2$ \n",
    "\n",
    "$ \\frac{\\partial}{\\partial b} f(x) = 1$ \n",
    "\n",
    "The partial derivatives of $L$ w.r.t. the parameters $w$ and $b$ are calculated by applying the [chain rule](https://en.wikipedia.org/wiki/Chain_rule):\n",
    "\n",
    "$\\frac{\\partial}{\\partial w_0} L = 2(f(x) - y) \\ \\frac{\\partial}{\\partial w_0} (f(x)-y) = 2(f(x) - y) \\ x_0^2$\n",
    "\n",
    "$\\frac{\\partial}{\\partial w_1} L = 2(f(x) - y) \\ \\frac{\\partial}{\\partial w_1} (f(x) - y) = 2(f(x) - y) \\ x_1^2$\n",
    "\n",
    "$\\frac{\\partial}{\\partial b} L = 2(f(x) - y) \\ \\frac{\\partial}{\\partial b} (f(x)-y) = 2(f(x) - y)$\n",
    "\n"
   ]
  },
  {
   "cell_type": "code",
   "execution_count": 3,
   "metadata": {},
   "outputs": [],
   "source": [
    "%matplotlib inline\n",
    "import matplotlib\n",
    "import numpy as np\n",
    "import matplotlib.pyplot as plt"
   ]
  },
  {
   "cell_type": "code",
   "execution_count": null,
   "metadata": {},
   "outputs": [],
   "source": []
  },
  {
   "cell_type": "code",
   "execution_count": 6,
   "metadata": {},
   "outputs": [
    {
     "name": "stdout",
     "output_type": "stream",
     "text": [
      "true parameters: [-0.8  1.3] [0.5]\n",
      "estimated parameters [-0.8  1.3] [0.5]\n"
     ]
    },
    {
     "data": {
      "image/png": "[encoded data removed]",
      "text/plain": [
       "<matplotlib.figure.Figure at 0x105e23e48>"
      ]
     },
     "metadata": {},
     "output_type": "display_data"
    }
   ],
   "source": [
    "# f is parametrized with `w` and `b` so we can use it\n",
    "# to calculate `y` and `y_hat`\n",
    "def f(x, w, b):\n",
    "    assert x.shape[0] == 2\n",
    "    assert w.shape[0] == 2\n",
    "    assert b.shape[0] == 1\n",
    "    return w[0] * x[0]**2 + w[1] * x[1]**2 + b[0]\n",
    "\n",
    "# the true parameters that we are trying to estimate\n",
    "true_w = np.array([-0.8, 1.3])\n",
    "true_b = np.array([0.5])\n",
    "\n",
    "# initialize model parameters with small random values\n",
    "w = np.random.normal(loc=0.0, scale=0.01, size=(2,))\n",
    "b = np.random.normal(loc=0.0, scale=0.01, size=(1,))\n",
    "\n",
    "# hyperparameter\n",
    "alpha = 0.001\n",
    "\n",
    "nb_iterations = 5000\n",
    "\n",
    "# loss history\n",
    "losses = []\n",
    "\n",
    "for i in range(nb_iterations):\n",
    "    \n",
    "    # normally we would read the train examples x and labels y from a \n",
    "    # train dataset since we know the generating function we simply \n",
    "    # calculate them on the fly\n",
    "    x = (np.random.rand(2) * 4.0) - np.array([2.0, 2.0])\n",
    "    y = f(x, true_w, true_b)\n",
    "\n",
    "    # forward pass\n",
    "    y_hat = f(x, w, b)\n",
    "    \n",
    "    # calculate loss for reporting\n",
    "    loss = (y_hat - y)**2\n",
    "    losses.append(loss)\n",
    "\n",
    "    # backward pass\n",
    "    \n",
    "    # calculate partial derivatives of the loss w.r.t. w and b\n",
    "    dloss_dw0 = 2 * (y_hat - y) * x[0]**2\n",
    "    dloss_dw1 = 2 * (y_hat - y) * x[1]**2\n",
    "    dloss_db = 2 * (y_hat - y)\n",
    "    \n",
    "    # apply the update rule\n",
    "    w = w - alpha * np.array([dloss_dw0, dloss_dw1])\n",
    "    b = b - alpha * np.array([dloss_db])\n",
    "\n",
    "print('true parameters:', true_w, true_b)\n",
    "print('estimated parameters', w, b)\n",
    "\n",
    "# plot the loss over time\n",
    "plt.figure(figsize=(10,10))\n",
    "plt.title('Convergence plot')\n",
    "plt.xlabel('step')\n",
    "plt.ylabel('loss')\n",
    "plt.plot(losses[:5000])\n",
    "plt.show()\n"
   ]
  },
  {
   "cell_type": "code",
   "execution_count": null,
   "metadata": {},
   "outputs": [],
   "source": []
  },
  {
   "cell_type": "markdown",
   "metadata": {},
   "source": [
    "**Note:** this examples goes through the details of gradient calculation and parameter updating to demonstrate how gradient descent works. In practice you do not have to implement this yourself because the functionality is provided by a machine learning framework."
   ]
  }
 ],
 "metadata": {
  "kernelspec": {
   "display_name": "Python 3",
   "language": "python",
   "name": "python3"
  },
  "language_info": {
   "codemirror_mode": {
    "name": "ipython",
    "version": 3
   },
   "file_extension": ".py",
   "mimetype": "text/x-python",
   "name": "python",
   "nbconvert_exporter": "python",
   "pygments_lexer": "ipython3",
   "version": "3.6.4"
  }
 },
 "nbformat": 4,
 "nbformat_minor": 2
}
