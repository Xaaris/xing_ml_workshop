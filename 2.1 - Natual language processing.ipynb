{
 "cells": [
  {
   "cell_type": "markdown",
   "metadata": {},
   "source": [
    "A model takes a fixes size tensor as input and outputs a tensor:\n",
    " * binary classification: output is a probability, e.g. how likely is the user to read the article\n",
    " * multi-class classification: output is a probability distribution over the class labels, e.g. what category does an article belong to\n",
    " * regression: output is a scalar, e.g. some quality score or audience reach\n",
    "\n",
    "When dealing with natural language, the input x encodes features such as words, part-of-speech tags (noun, verb adjective etc.), entity information (part of a person/organization/country) etc.\n",
    "\n",
    "One-hot encoding\n",
    " * Dimensionality of one-hot vector is same as number of words in the vocabulary\n",
    " * The vector contains only zeros except the index that represents the word is set to 1\n",
    " * The dimensions of the vector are independent of each other\n",
    " \n",
    "Dense vector\n",
    " * Each word is a d-dimensional vector\n",
    " * Similar words will have similar vectors – information is shared between similar words\n",
    " \n",
    "Vector size with one-hot encoding is the size of the vocabulary, that is usually in the range 50k to 200k words. Dense vectors usually have a size of 100 to 300.\n",
    "\n",
    "Using dense representation has a computational advantage. The input data is much smaller, this results in more efficient model training.\n",
    "\n",
    "The main advantage of the dense representations is that is generalizes better, if two words have similar meaning the model is able to capture this semantic."
   ]
  }
 ],
 "metadata": {
  "kernelspec": {
   "display_name": "Python 3",
   "language": "python",
   "name": "python3"
  },
  "language_info": {
   "codemirror_mode": {
    "name": "ipython",
    "version": 3
   },
   "file_extension": ".py",
   "mimetype": "text/x-python",
   "name": "python",
   "nbconvert_exporter": "python",
   "pygments_lexer": "ipython3",
   "version": "3.6.4"
  }
 },
 "nbformat": 4,
 "nbformat_minor": 2
}
