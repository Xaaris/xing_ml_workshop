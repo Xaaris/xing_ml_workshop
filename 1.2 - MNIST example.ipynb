{
 "cells": [
  {
   "cell_type": "markdown",
   "metadata": {},
   "source": [
    "As an introduction we'll look at a classification problem. \n",
    "\n",
    "The goal of classification is to predict a category out of a set of possible categories for an input. \n",
    "\n",
    "More specific, we are generating a probability distribution over the set of categories. \n",
    "\n",
    "As predicted category we take the category with the highest probability. \n",
    "\n",
    "The advantage of working with probability distributions is that is gives us a measure of confidence for the prediction.\n",
    "\n",
    "The problem we are solving here is to classify grayscale images of handwritten digits (28x28 pixels) into 10 different categories (0 through 9). \n",
    "\n",
    "We’ll use the [MNIST](http://yann.lecun.com/exdb/mnist/) dataset. \n",
    "\n",
    "It’s a set of 60,000 training images, plus 10,000 test images.\n",
    "\n",
    "Here are some example images from MNIST:\n",
    "\n",
    "<img src=\"images/mnist-1.jpg\" height=\"450\" width=\"600\"/>\n",
    "\n",
    "Note the different train and test datasets. \n",
    "\n",
    "We'll train the model on the train dataset and evaluate it on the test dataset. \n",
    "\n",
    "This separation is very important for a correct measurement of the model performance. \n",
    "\n",
    "We want to measure how well the model performs on data it has never seen before, this property is called **generalization**. \n",
    "\n",
    "At some point in the training process the model will overfit on the training data and as a result the performance on the test data will get worse.\n",
    "\n",
    "Some ML terminology:\n",
    "\n",
    " * data points are called **examples**, usually denoted as $x$ for a single example or $X$ for multiple examples\n",
    " * a category in a classification problem is called a **class**\n",
    " * the class associated with a specific sample is called a **label**, usually denoted as $y$\n",
    "\n"
   ]
  },
  {
   "cell_type": "markdown",
   "metadata": {},
   "source": [
    "### Load the MNIST dataset"
   ]
  },
  {
   "cell_type": "code",
   "execution_count": 1,
   "metadata": {},
   "outputs": [
    {
     "name": "stderr",
     "output_type": "stream",
     "text": [
      "/Users/asprenger/anaconda3-5.1.0/lib/python3.6/site-packages/h5py/__init__.py:36: FutureWarning: Conversion of the second argument of issubdtype from `float` to `np.floating` is deprecated. In future, it will be treated as `np.float64 == np.dtype(float).type`.\n",
      "  from ._conv import register_converters as _register_converters\n",
      "Using TensorFlow backend.\n"
     ]
    },
    {
     "name": "stdout",
     "output_type": "stream",
     "text": [
      "Train images: (60000, 28, 28)\n",
      "Train labels: (60000,)\n",
      "Test images: (10000, 28, 28)\n",
      "Test labels: (10000,)\n"
     ]
    }
   ],
   "source": [
    "from keras.datasets import mnist\n",
    "\n",
    "(train_images, train_labels), (test_images, test_labels) = mnist.load_data()\n",
    "print('Train images:', train_images.shape)\n",
    "print('Train labels:', train_labels.shape)\n",
    "print('Test images:', test_images.shape)\n",
    "print('Test labels:', test_labels.shape)"
   ]
  },
  {
   "cell_type": "markdown",
   "metadata": {},
   "source": [
    "### Plot some training examples"
   ]
  },
  {
   "cell_type": "code",
   "execution_count": 2,
   "metadata": {},
   "outputs": [
    {
     "name": "stdout",
     "output_type": "stream",
     "text": [
      "Label: 5\n"
     ]
    },
    {
     "data": {
      "image/png": "[encoded data removed]",
      "text/plain": [
       "<matplotlib.figure.Figure at 0x1815a6c470>"
      ]
     },
     "metadata": {},
     "output_type": "display_data"
    },
    {
     "name": "stdout",
     "output_type": "stream",
     "text": [
      "Label: 0\n"
     ]
    },
    {
     "data": {
      "image/png": "[encoded data removed]",
      "text/plain": [
       "<matplotlib.figure.Figure at 0x1822c35f98>"
      ]
     },
     "metadata": {},
     "output_type": "display_data"
    },
    {
     "name": "stdout",
     "output_type": "stream",
     "text": [
      "Label: 4\n"
     ]
    },
    {
     "data": {
      "image/png": "[encoded data removed]",
      "text/plain": [
       "<matplotlib.figure.Figure at 0x1822ceb2e8>"
      ]
     },
     "metadata": {},
     "output_type": "display_data"
    }
   ],
   "source": [
    "%matplotlib inline\n",
    "import matplotlib.pyplot as plt\n",
    "\n",
    "for i in range(3):\n",
    "    plt.imshow(train_images[i], cmap='gray')\n",
    "    print('Label:', train_labels[i])\n",
    "    plt.show()\n"
   ]
  },
  {
   "cell_type": "markdown",
   "metadata": {},
   "source": [
    "`train_images` and `train_labels` form the training set, the data that the model will learn from. \n",
    "\n",
    "The model will then be tested on the test set, `test_images` and `test_labels`.\n",
    "\n",
    "The images are encoded as Numpy arrays, and the labels are an array of digits, ranging from 0 to 9. \n",
    "\n",
    "The images and labels have a one-to-one correspondence.\n",
    "\n",
    "The workflow will be as follows: \n",
    "\n",
    " 1. We’ll feed the neural network the training data, `train_images` and `train_labels`. \n",
    " 2. The network will then learn to associate images and labels. \n",
    " 3. We’ll ask the network to produce predictions for `test_images`, and we’ll verify whether these predictions match the labels from `test_labels`."
   ]
  },
  {
   "cell_type": "markdown",
   "metadata": {},
   "source": [
    "## Build the model\n",
    "\n",
    "The core building block of neural networks is the **layer**. \n",
    "\n",
    "A layer is a function with some input and some output. \n",
    "\n",
    "Layers are often stacked on top of each other.\n",
    "\n",
    "Here, our network consists of a sequence of two **dense layers**, also sometimes called fully connected layers.\n",
    "\n",
    "A dense layer implements the following function: \n",
    "\n",
    "$$ \n",
    "output = activation(W \\cdot input + b) \n",
    "$$\n",
    "\n",
    "$input$ and $output$ are vectors.\n",
    "\n",
    "$\\cdot$ is the dot product.\n",
    "\n",
    "$W$ is a matrix and $b$ is a vector, they are called the **parameters** of the layer. \n",
    "\n",
    "When you think about a layer as a stateful function than $W$ and $b$ would be the state.\n",
    "\n",
    "The **activation function** computes the output of a layer. \n",
    "\n",
    "In most cases the activation function is a non-linear function. \n",
    "\n",
    "This model uses **Rectified Linear Unit (ReLU)** and **Softmax** activation functions.\n"
   ]
  },
  {
   "cell_type": "code",
   "execution_count": 3,
   "metadata": {},
   "outputs": [],
   "source": [
    "from keras import models\n",
    "from keras import layers\n",
    "\n",
    "# define the model input\n",
    "inputs = layers.Input((28 * 28,))\n",
    "\n",
    "# define the first dense layer\n",
    "x = layers.Dense(units=256, activation='relu')(inputs)\n",
    "\n",
    "# define the output layer\n",
    "output = layers.Dense(units=10, activation='softmax')(x)\n",
    "\n",
    "# define a model that holds everything together\n",
    "model = models.Model(inputs=inputs, outputs=output)"
   ]
  },
  {
   "cell_type": "markdown",
   "metadata": {},
   "source": [
    "The last layer uses a softmax activation function, that returns a vector of 10 probability scores (summing to 1). \n",
    "\n",
    "Each score will be the probability that the input image belongs to one of our 10 digit classes.\n",
    "\n",
    "The actual prediction will be the class with the highest probability.\n",
    "\n",
    "In summary the model calculates the following function:\n",
    "\n",
    "$$ \n",
    "probabilities = softmax(W_2 \\cdot relu(W_1 \\cdot input + b_1) + b_2)\n",
    "$$\n",
    "\n",
    "$W_1$, $b_1$, $W_2$ and $b_2$ are the parameters of the model.\n",
    "\n",
    "Lets look at some details:"
   ]
  },
  {
   "cell_type": "code",
   "execution_count": 4,
   "metadata": {},
   "outputs": [
    {
     "name": "stdout",
     "output_type": "stream",
     "text": [
      "_________________________________________________________________\n",
      "Layer (type)                 Output Shape              Param #   \n",
      "=================================================================\n",
      "input_1 (InputLayer)         (None, 784)               0         \n",
      "_________________________________________________________________\n",
      "dense_1 (Dense)              (None, 256)               200960    \n",
      "_________________________________________________________________\n",
      "dense_2 (Dense)              (None, 10)                2570      \n",
      "=================================================================\n",
      "Total params: 203,530\n",
      "Trainable params: 203,530\n",
      "Non-trainable params: 0\n",
      "_________________________________________________________________\n"
     ]
    }
   ],
   "source": [
    "# print some details about each layer in the model\n",
    "model.summary()"
   ]
  },
  {
   "cell_type": "markdown",
   "metadata": {},
   "source": [
    "The model has about 200K parameters. In general this depends on the input size and the type and configuration of the individual layers. \n",
    "\n",
    "In our specific model, given that the input size and the number of classes is fixed, the number of parameters depends only on the `units` argument in the first dense layer."
   ]
  },
  {
   "cell_type": "markdown",
   "metadata": {},
   "source": [
    "A Keras model has the following primary methods:\n",
    "\n",
    " * `fit()`: this trains the model by 'fitting' the model parameters to the training data\n",
    " * `evaluate()`: measure the performance of the model by calculating evaluation metrics\n",
    " * `predict()`: predict labels for a set of examples\n",
    "\n",
    "\n",
    "To be able to train the model we need three more things:\n",
    "\n",
    " * **loss function -** this measures the models prediction error, the difference between the prediction and the ground truth.\n",
    " * **optimizer -** an algorithm through which the model will update its parameters based on the training examples it sees and the loss calculated by the loss function\n",
    " * **other metrics -** in this case we only care about **accuracy**, the fraction of the images that were correctly classified\n",
    " \n",
    "The model must be compiled to be ready for training."
   ]
  },
  {
   "cell_type": "code",
   "execution_count": 5,
   "metadata": {},
   "outputs": [],
   "source": [
    "model.compile(optimizer='rmsprop',\n",
    "              loss='sparse_categorical_crossentropy',\n",
    "              metrics=['accuracy'])"
   ]
  },
  {
   "cell_type": "markdown",
   "metadata": {},
   "source": [
    "## Preprocessing\n",
    "\n",
    "Before we can start the training we need to preprocess the images. \n",
    "\n",
    "The model expects each train/test example as a vector, therefore we flatten the images. \n",
    "\n",
    "We also transform the image values to the range [0, 1], this helps the model to train faster."
   ]
  },
  {
   "cell_type": "code",
   "execution_count": 6,
   "metadata": {},
   "outputs": [
    {
     "name": "stdout",
     "output_type": "stream",
     "text": [
      "Before preprocessing:\n",
      "Train images: (60000, 28, 28) uint8\n",
      "Test images: (10000, 28, 28) uint8\n",
      "\n",
      " After preprocessing:\n",
      "Train images: (60000, 784) float32\n",
      "Test images: (10000, 784) float32\n"
     ]
    }
   ],
   "source": [
    "print('Before preprocessing:')\n",
    "print('Train images:', train_images.shape, train_images.dtype)\n",
    "print('Test images:', test_images.shape, test_images.dtype)\n",
    "\n",
    "train_images = train_images.reshape((60000, 28 * 28))\n",
    "train_images = train_images.astype('float32') / 255\n",
    "test_images = test_images.reshape((10000, 28 * 28))\n",
    "test_images = test_images.astype('float32') / 255\n",
    "\n",
    "print('\\n After preprocessing:')\n",
    "print('Train images:', train_images.shape, train_images.dtype)\n",
    "print('Test images:', test_images.shape, test_images.dtype)"
   ]
  },
  {
   "cell_type": "markdown",
   "metadata": {},
   "source": [
    "We’re now ready to train the network. This is done by calling the models `fit()` method, it fits the model to its training data. \n",
    "\n",
    "`fit()` takes the following arguments:\n",
    "\n",
    " * train_images - the examples to train on\n",
    " * train_labels - the labels to calculate the loss\n",
    " * epochs - number of iterations over the training data\n",
    " * batch_size - number of examples to process in one step"
   ]
  },
  {
   "cell_type": "markdown",
   "metadata": {},
   "source": [
    "## Train the model"
   ]
  },
  {
   "cell_type": "code",
   "execution_count": 7,
   "metadata": {},
   "outputs": [
    {
     "name": "stdout",
     "output_type": "stream",
     "text": [
      "Epoch 1/5\n",
      "60000/60000 [==============================] - 2s 33us/step - loss: 0.2859 - acc: 0.9204\n",
      "Epoch 2/5\n",
      "60000/60000 [==============================] - 2s 32us/step - loss: 0.1267 - acc: 0.9630\n",
      "Epoch 3/5\n",
      "60000/60000 [==============================] - 2s 31us/step - loss: 0.0865 - acc: 0.9744\n",
      "Epoch 4/5\n",
      "60000/60000 [==============================] - 2s 30us/step - loss: 0.0648 - acc: 0.9814\n",
      "Epoch 5/5\n",
      "60000/60000 [==============================] - 2s 30us/step - loss: 0.0511 - acc: 0.9852\n"
     ]
    }
   ],
   "source": [
    "h = model.fit(train_images, train_labels, epochs=5, batch_size=128)"
   ]
  },
  {
   "cell_type": "markdown",
   "metadata": {},
   "source": [
    "Two quantities are displayed during training: \n",
    " * `loss`: the loss of the network over the training data\n",
    " * `acc`: the accuracy of the network over the training data\n",
    " \n",
    "Now lets check how the model performs on the test data:"
   ]
  },
  {
   "cell_type": "markdown",
   "metadata": {},
   "source": [
    "## Evaluate the model"
   ]
  },
  {
   "cell_type": "code",
   "execution_count": 8,
   "metadata": {},
   "outputs": [
    {
     "name": "stdout",
     "output_type": "stream",
     "text": [
      "Test accuracy: 0.9764\n"
     ]
    }
   ],
   "source": [
    "_, test_acc = model.evaluate(test_images, test_labels, verbose=0)\n",
    "print('Test accuracy:', test_acc)"
   ]
  },
  {
   "cell_type": "markdown",
   "metadata": {},
   "source": [
    "The accuracy is the percentage of correct predictions. \n",
    "\n",
    "The test accuracy is lower than the train accuracy. \n",
    "\n",
    "This is expected and called **overfitting** - during training the model learns aspects of the examples that are specific for the training data.\n",
    "\n",
    "On a realworld problem it is usually not possible to train a model with perfect test accuracy. \n",
    "\n",
    "Having a test accuracy close to 1.0 usually means you have a bug in your preprocessing or training code and the model does not generalize."
   ]
  },
  {
   "cell_type": "markdown",
   "metadata": {},
   "source": [
    "## Plot a confusion matrix\n",
    "The accuracy metric is the mean accuracy over all classes. \n",
    "\n",
    "The **confusion matix** is a tool to better understand the predictive performance of a model on individual classes. \n",
    "\n",
    "It breaks the evaluation result down and shows the correct and incorrect predictions for individual classes."
   ]
  },
  {
   "cell_type": "code",
   "execution_count": 9,
   "metadata": {},
   "outputs": [
    {
     "name": "stdout",
     "output_type": "stream",
     "text": [
      "Predicted    0     1    2    3    4    5    6     7    8    9\n",
      "True                                                         \n",
      "0          968     0    1    0    1    1    3     1    3    2\n",
      "1            0  1124    2    1    0    1    2     1    4    0\n",
      "2            6     4  984    9    4    1    3     7   14    0\n",
      "3            0     0    1  997    0    2    0     5    4    1\n",
      "4            2     0    1    1  968    0    1     2    1    6\n",
      "5            2     0    0   18    1  854    8     0    8    1\n",
      "6            5     2    0    1    4    3  939     0    4    0\n",
      "7            1     2    7    3    2    0    0  1004    3    6\n",
      "8            2     1    3    5    3    2    2     2  951    3\n",
      "9            2     2    0   11   10    2    0     5    2  975\n"
     ]
    }
   ],
   "source": [
    "import numpy as np\n",
    "import pandas as pd\n",
    "probabilities = model.predict(test_images)\n",
    "predictions = np.argmax(probabilities, axis=1)\n",
    "confusion_matrix = pd.crosstab(test_labels, predictions, rownames=['True'], colnames=['Predicted'], margins=False)\n",
    "print(confusion_matrix)\n"
   ]
  },
  {
   "cell_type": "markdown",
   "metadata": {},
   "source": [
    "The vertical axis represents the true labels and the horizontal axis represents the predicted labels. \n",
    "\n",
    "The values in the matrix are the counts how many times a true label has been predicted as one of the 10 classes. \n",
    "\n",
    "The main diagonal are the correct predictions, this is where a good model will have most of the counts.\n",
    "\n",
    "In the example you can see that `4` and `9` are often confused with each other. \n",
    "\n",
    "`4` is predicted 13 times as `9` and `9` has been predicted 14 times as `4`. \n",
    "\n",
    "This makes sense because the two digits have a similar shape. \n",
    "\n",
    "On the other hand `0` and `1` are never confused with each other."
   ]
  },
  {
   "cell_type": "code",
   "execution_count": 10,
   "metadata": {},
   "outputs": [
    {
     "data": {
      "image/png": "[encoded data removed]",
      "text/plain": [
       "<matplotlib.figure.Figure at 0x182eae6940>"
      ]
     },
     "metadata": {},
     "output_type": "display_data"
    }
   ],
   "source": [
    "def plot_confusion_matrix(df_confusion, cmap=plt.cm.YlOrRd):\n",
    "    plt.matshow(df_confusion, cmap=cmap)\n",
    "    plt.colorbar()\n",
    "    tick_marks = np.arange(len(df_confusion.columns))\n",
    "    plt.xticks(tick_marks, df_confusion.columns, rotation=45)\n",
    "    plt.yticks(tick_marks, df_confusion.index)\n",
    "    plt.ylabel(df_confusion.index.name)\n",
    "    plt.xlabel(df_confusion.columns.name)\n",
    "\n",
    "plot_confusion_matrix(confusion_matrix)"
   ]
  },
  {
   "cell_type": "markdown",
   "metadata": {},
   "source": [
    "## Use the model for prediction\n",
    "\n",
    "Generate predictions for the first 5 images of the test dataset."
   ]
  },
  {
   "cell_type": "code",
   "execution_count": 13,
   "metadata": {},
   "outputs": [
    {
     "name": "stdout",
     "output_type": "stream",
     "text": [
      "label: 7 prediction: 7\n",
      "[3.0040017e-08 9.5474129e-11 4.0560126e-06 7.5612312e-05 2.3169302e-11\n",
      " 3.2741443e-08 5.6506102e-13 9.9991858e-01 5.7435955e-08 1.7805730e-06]\n"
     ]
    },
    {
     "data": {
      "image/png": "[encoded data removed]",
      "text/plain": [
       "<matplotlib.figure.Figure at 0x18188db390>"
      ]
     },
     "metadata": {},
     "output_type": "display_data"
    },
    {
     "name": "stdout",
     "output_type": "stream",
     "text": [
      "label: 2 prediction: 2\n",
      "[5.1014726e-09 2.8676064e-05 9.9996006e-01 1.0259812e-05 1.9139552e-15\n",
      " 2.1345245e-07 1.9217291e-07 3.3343768e-13 5.8520988e-07 8.0755972e-14]\n"
     ]
    },
    {
     "data": {
      "image/png": "[encoded data removed]",
      "text/plain": [
       "<matplotlib.figure.Figure at 0x1818931400>"
      ]
     },
     "metadata": {},
     "output_type": "display_data"
    },
    {
     "name": "stdout",
     "output_type": "stream",
     "text": [
      "label: 1 prediction: 1\n",
      "[1.3653940e-06 9.9902856e-01 7.7862758e-05 3.6850470e-05 2.8730094e-05\n",
      " 1.1300601e-05 1.3686827e-05 6.3304423e-04 1.5715783e-04 1.1524101e-05]\n"
     ]
    },
    {
     "data": {
      "image/png": "[encoded data removed]",
      "text/plain": [
       "<matplotlib.figure.Figure at 0x18189a2160>"
      ]
     },
     "metadata": {},
     "output_type": "display_data"
    },
    {
     "name": "stdout",
     "output_type": "stream",
     "text": [
      "label: 0 prediction: 0\n",
      "[9.9991250e-01 5.2648952e-10 5.1307561e-06 2.1024355e-06 9.6276801e-07\n",
      " 5.5739260e-06 4.5836201e-05 1.5457088e-05 8.0884021e-08 1.2316074e-05]\n"
     ]
    },
    {
     "data": {
      "image/png": "[encoded data removed]",
      "text/plain": [
       "<matplotlib.figure.Figure at 0x1818ad5b00>"
      ]
     },
     "metadata": {},
     "output_type": "display_data"
    },
    {
     "name": "stdout",
     "output_type": "stream",
     "text": [
      "label: 4 prediction: 4\n",
      "[5.2735013e-06 1.6090211e-09 5.0199219e-06 6.7867995e-06 9.7556031e-01\n",
      " 3.3739786e-06 2.6290159e-06 8.5072062e-04 2.9131610e-05 2.3536699e-02]\n"
     ]
    },
    {
     "data": {
      "image/png": "[encoded data removed]",
      "text/plain": [
       "<matplotlib.figure.Figure at 0x1818b83978>"
      ]
     },
     "metadata": {},
     "output_type": "display_data"
    }
   ],
   "source": [
    "import numpy as np\n",
    "\n",
    "probabilities = model.predict(test_images[0:5])\n",
    "predicted_labels = np.argmax(probabilities, axis=1)\n",
    "\n",
    "for i in range(predicted_labels.shape[0]):\n",
    "    print('label:', test_labels[i], 'prediction:', predicted_labels[i])\n",
    "    print(probabilities[i])\n",
    "    plt.imshow(test_images[i].reshape(28,28), cmap='gray')\n",
    "    plt.show()\n"
   ]
  },
  {
   "cell_type": "markdown",
   "metadata": {},
   "source": [
    "## Plot some mispredictions"
   ]
  },
  {
   "cell_type": "code",
   "execution_count": 15,
   "metadata": {
    "scrolled": false
   },
   "outputs": [
    {
     "name": "stdout",
     "output_type": "stream",
     "text": [
      "label: 9 prediction: 8\n",
      "[[1.5918319e-03 8.6593825e-09 7.9352554e-05 7.0149757e-02 8.5713182e-06\n",
      "  4.4983409e-02 1.0667838e-05 6.7786314e-05 4.5599207e-01 4.2711657e-01]]\n"
     ]
    },
    {
     "data": {
      "image/png": "[encoded data removed]",
      "text/plain": [
       "<matplotlib.figure.Figure at 0x1818c0bba8>"
      ]
     },
     "metadata": {},
     "output_type": "display_data"
    },
    {
     "name": "stdout",
     "output_type": "stream",
     "text": [
      "label: 4 prediction: 2\n",
      "[[1.6446338e-06 4.1045056e-05 7.5113952e-01 1.1408926e-03 1.0467392e-01\n",
      "  8.8838700e-05 1.4284348e-01 3.1981472e-05 3.8682902e-05 3.9106212e-08]]\n"
     ]
    },
    {
     "data": {
      "image/png": "[encoded data removed]",
      "text/plain": [
       "<matplotlib.figure.Figure at 0x1818b04cc0>"
      ]
     },
     "metadata": {},
     "output_type": "display_data"
    },
    {
     "name": "stdout",
     "output_type": "stream",
     "text": [
      "label: 6 prediction: 0\n",
      "[[5.1555842e-01 2.7279028e-09 1.2719732e-06 1.1881103e-05 1.5068454e-04\n",
      "  1.0856232e-03 4.8289511e-01 2.1294579e-04 8.3951483e-05 1.9759477e-07]]\n"
     ]
    },
    {
     "data": {
      "image/png": "[encoded data removed]",
      "text/plain": [
       "<matplotlib.figure.Figure at 0x1050cf5c0>"
      ]
     },
     "metadata": {},
     "output_type": "display_data"
    },
    {
     "name": "stdout",
     "output_type": "stream",
     "text": [
      "label: 9 prediction: 3\n",
      "[[2.2975995e-07 1.3860975e-10 1.6652639e-05 5.9917474e-01 1.0918203e-07\n",
      "  2.0827842e-06 1.5021172e-10 2.6055409e-03 8.2301791e-04 3.9737764e-01]]\n"
     ]
    },
    {
     "data": {
      "image/png": "[encoded data removed]",
      "text/plain": [
       "<matplotlib.figure.Figure at 0x1819ccb6d8>"
      ]
     },
     "metadata": {},
     "output_type": "display_data"
    },
    {
     "name": "stdout",
     "output_type": "stream",
     "text": [
      "label: 9 prediction: 8\n",
      "[[6.7597575e-06 1.5267602e-02 3.3416429e-03 2.0442424e-02 3.0835826e-04\n",
      "  1.2452267e-04 2.0923203e-08 1.4003994e-01 4.8177242e-01 3.3869630e-01]]\n"
     ]
    },
    {
     "data": {
      "image/png": "[encoded data removed]",
      "text/plain": [
       "<matplotlib.figure.Figure at 0x182e5145c0>"
      ]
     },
     "metadata": {},
     "output_type": "display_data"
    },
    {
     "name": "stdout",
     "output_type": "stream",
     "text": [
      "label: 2 prediction: 7\n",
      "[[4.1838241e-05 5.5136017e-05 2.4039026e-02 1.8179039e-02 4.4104706e-10\n",
      "  5.0152698e-06 3.6706163e-09 9.5054328e-01 7.0485752e-03 8.8131055e-05]]\n"
     ]
    },
    {
     "data": {
      "image/png": "[encoded data removed]",
      "text/plain": [
       "<matplotlib.figure.Figure at 0x1822d9c128>"
      ]
     },
     "metadata": {},
     "output_type": "display_data"
    },
    {
     "name": "stdout",
     "output_type": "stream",
     "text": [
      "label: 5 prediction: 3\n",
      "[[2.1261275e-07 4.1170903e-03 9.9909698e-07 9.1880655e-01 2.8810443e-06\n",
      "  7.6775767e-02 1.1742812e-05 2.9173037e-07 1.4125949e-04 1.4314245e-04]]\n"
     ]
    },
    {
     "data": {
      "image/png": "[encoded data removed]",
      "text/plain": [
       "<matplotlib.figure.Figure at 0x1818e127f0>"
      ]
     },
     "metadata": {},
     "output_type": "display_data"
    },
    {
     "name": "stdout",
     "output_type": "stream",
     "text": [
      "label: 3 prediction: 7\n",
      "[[4.01811093e-07 6.02239516e-06 6.85646781e-04 1.25075085e-02\n",
      "  1.33701249e-07 4.46435280e-07 1.52006940e-08 9.86791611e-01\n",
      "  9.20393575e-07 7.29890826e-06]]\n"
     ]
    },
    {
     "data": {
      "image/png": "[encoded data removed]",
      "text/plain": [
       "<matplotlib.figure.Figure at 0x182e527128>"
      ]
     },
     "metadata": {},
     "output_type": "display_data"
    }
   ],
   "source": [
    "import numpy as np\n",
    "\n",
    "for i in range(400):\n",
    "    probabilities = model.predict(np.expand_dims(test_images[i], axis=0))\n",
    "    predicted_labels = np.argmax(probabilities, axis=1)[0]\n",
    "    true_label = test_labels[i]\n",
    "    if predicted_labels != true_label:\n",
    "        print('label:', true_label, 'prediction:', predicted_labels)\n",
    "        print(probabilities)\n",
    "        plt.imshow(test_images[i].reshape(28,28), cmap='gray')\n",
    "        plt.show()\n",
    "\n"
   ]
  },
  {
   "cell_type": "markdown",
   "metadata": {},
   "source": [
    "**Note::** There is dataset from Zalando called [fashion-mnist](https://github.com/zalandoresearch/fashion-mnist) that is a drop-in replacement for the original MNIST dataset but more challenging."
   ]
  }
 ],
 "metadata": {
  "kernelspec": {
   "display_name": "Python 3",
   "language": "python",
   "name": "python3"
  },
  "language_info": {
   "codemirror_mode": {
    "name": "ipython",
    "version": 3
   },
   "file_extension": ".py",
   "mimetype": "text/x-python",
   "name": "python",
   "nbconvert_exporter": "python",
   "pygments_lexer": "ipython3",
   "version": "3.6.4"
  }
 },
 "nbformat": 4,
 "nbformat_minor": 2
}
