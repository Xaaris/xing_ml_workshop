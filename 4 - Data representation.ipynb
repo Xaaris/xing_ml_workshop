{
 "cells": [
  {
   "cell_type": "markdown",
   "metadata": {},
   "source": [
    "## Tensor"
   ]
  },
  {
   "cell_type": "markdown",
   "metadata": {},
   "source": [
    "In general, all current machine-learning systems require tensors as their input data structure. A tensor is a container for numerical data. Tensors are a generalization of matrices to an arbitrary number of dimensions\n",
    "\n",
    "A tensor has the following properties:\n",
    "\n",
    " * **Number of axis:** A vector has 1 axis, a matrix has 2 axis ets. Also called rank or dimension.\n",
    " * **Shape:** A tuple of integers that describes how many dimensions the tensor has along each axis. A matrix might have a shape (3,5). A vector has a shape with a single element, such as (5), whereas a scalar has an empty shape ().\n",
    " * **Data type**: The data type of the tensor values. This is a numeric like int8 or float32.\n",
    " \n",
    "Lets look at the MNIST dataset for an example:"
   ]
  },
  {
   "cell_type": "code",
   "execution_count": 9,
   "metadata": {},
   "outputs": [
    {
     "name": "stdout",
     "output_type": "stream",
     "text": [
      "Tensor train_images:\n",
      "Number of axes: 3\n",
      "Shape: (60000, 28, 28)\n",
      "Data type: uint8\n"
     ]
    }
   ],
   "source": [
    "import numpy as np\n",
    "from keras.datasets import mnist\n",
    "(train_images, train_labels), (test_images, test_labels) = mnist.load_data()\n",
    "\n",
    "print('Tensor train_images:')\n",
    "print('Number of axes:', train_images.ndim)\n",
    "print('Shape:', train_images.shape)\n",
    "print('Data type:', train_images.dtype)"
   ]
  },
  {
   "cell_type": "markdown",
   "metadata": {},
   "source": [
    "`train_images` is a 3D tensor that is an array of 60,000 matrices of 28 × 28 integers."
   ]
  },
  {
   "cell_type": "markdown",
   "metadata": {},
   "source": [
    "### Scalars (0D tensors):\n",
    "A tensor that contains only one number is called a *scalar*."
   ]
  },
  {
   "cell_type": "code",
   "execution_count": 10,
   "metadata": {},
   "outputs": [
    {
     "name": "stdout",
     "output_type": "stream",
     "text": [
      "Number of axes: 0\n",
      "Shape: ()\n",
      "Data type: int64\n"
     ]
    }
   ],
   "source": [
    "x = np.array(12)\n",
    "print('Number of axes:', x.ndim)\n",
    "print('Shape:', x.shape)\n",
    "print('Data type:', x.dtype)"
   ]
  },
  {
   "cell_type": "markdown",
   "metadata": {},
   "source": [
    "### Vectors (1D tensors)\n",
    "An array of numbers is called a *vector*, it has one axis."
   ]
  },
  {
   "cell_type": "code",
   "execution_count": 11,
   "metadata": {},
   "outputs": [
    {
     "name": "stdout",
     "output_type": "stream",
     "text": [
      "Number of axes: 1\n",
      "Shape: (4,)\n",
      "Data type: float64\n"
     ]
    }
   ],
   "source": [
    "x = np.array([3.0, 5.0, 1.0, 24.0])\n",
    "print('Number of axes:', x.ndim)\n",
    "print('Shape:', x.shape)\n",
    "print('Data type:', x.dtype)"
   ]
  },
  {
   "cell_type": "markdown",
   "metadata": {},
   "source": [
    "This vector is a a 4-dimensional vector.\n",
    "\n",
    "**Note:** Don’t confuse a 4-dimensional vector with a 4D tensor! A 4-dimensional vector has only one axis and has four dimensions along its axis, whereas a 4D tensor has four axes (and may have any number of dimensions along each axis). The term dimensionality is overloaded and can denote either the number of entries along a specific axis (as in the case of our 4-dimensional vector) or the number of axes in a tensor (such as a 4D tensor).\n",
    "\n",
    "\n"
   ]
  },
  {
   "cell_type": "markdown",
   "metadata": {},
   "source": [
    "### Matrices (2D tensors)\n",
    "An array of vectors is a matrix. A matrix has two axes, often referred to rows and columns. "
   ]
  },
  {
   "cell_type": "code",
   "execution_count": 13,
   "metadata": {},
   "outputs": [
    {
     "name": "stdout",
     "output_type": "stream",
     "text": [
      "Number of axes: 2\n",
      "Shape: (3, 5)\n",
      "Data type: int64\n"
     ]
    }
   ],
   "source": [
    "x = np.array([[5, 63, 5, 24, 8],\n",
    "              [6, 71, 8, 42, 3],\n",
    "              [7, 33, 1, 30, 8]])\n",
    "print('Number of axes:', x.ndim)\n",
    "print('Shape:', x.shape)\n",
    "print('Data type:', x.dtype)"
   ]
  },
  {
   "cell_type": "markdown",
   "metadata": {},
   "source": [
    "### Higher dimensional Tensors\n",
    "We can create an nD Tensor by arranging (n-1)D Tensors in an array. Example for a 3D Tensor:"
   ]
  },
  {
   "cell_type": "code",
   "execution_count": 14,
   "metadata": {},
   "outputs": [
    {
     "name": "stdout",
     "output_type": "stream",
     "text": [
      "Number of axes: 3\n",
      "Shape: (2, 3, 3)\n",
      "Data type: int64\n"
     ]
    }
   ],
   "source": [
    "x = np.array([\n",
    "    [[1, 2, 3],\n",
    "     [4, 5, 6],\n",
    "     [7, 8, 9]],\n",
    "    [[10, 20, 30],\n",
    "     [40, 50, 60],\n",
    "     [70, 80, 90]]\n",
    "    ])\n",
    "print('Number of axes:', x.ndim)\n",
    "print('Shape:', x.shape)\n",
    "print('Data type:', x.dtype)"
   ]
  },
  {
   "cell_type": "markdown",
   "metadata": {},
   "source": [
    "## Practical model input examples\n",
    "\n",
    "In general, the first axis (axis 0) in all data tensors will be the samples axis. In the MNIST example, samples are images of digits. In addition, models don’t process an entire dataset at once, it is usually broken into smaller batches. For such a batch tensor, the first axis (axis 0) is called the batch axis.\n",
    "\n",
    "### Timeseries data\n",
    "\n",
    "When you want to represent a timeseries it makes sense to store it in a 3D tensor with an explicit time axis. In this case axis 1 will represent time and axis 2 will represent the features of the example.\n",
    "\n",
    "<img src=\"images/3d-tensor.png\" height=\"30\" width=\"400\"/>\n",
    "\n",
    "For example take a dataset of stock prices:\n",
    "\n",
    " * There are 390 minutes in a trading day, this are our timesteps\n",
    " * At the end of every minute the following features are recorded:\n",
    "   * the current stock price\n",
    "   * the highest price in the past minute\n",
    "   * the lowest price in the past minute\n",
    "   \n",
    "When a trading day constitutes a single example it can be represented as tensor of shape (390, 3). A dataset of 200 trading days can be represented as tensor of shape (200, 390, 3).\n",
    "\n",
    "### Image data\n",
    "\n",
    "Images have three dimensions: height, width, and color depth. A batch of 128 color images can be stored in a tensor of shape (128, 256, 256, 3).\n",
    "\n",
    "<img src=\"images/4d-tensor.png\" height=\"30\" width=\"400\"/>\n",
    "\n",
    "The color dimension is often called **channel**. Note that there may be image formats with more than 3 dimensions, for example satellite images often contain non-visible bands of radiation.\n",
    "\n",
    "Grayscale images could be stored as a 2D tensor, e.g. (256, 256). But usually they are stored as a 3D tensor with a 'fake' dimension, e.g. (256, 256, 1. It is usually more convenient to use the same shape for grayscale and color images.\n",
    "\n",
    "There are two formats for shapes of image tensors: \n",
    "\n",
    " * `channels-last` places the color-depth axis at the end: (samples, height, width, color_depth)\n",
    " * `channels-first` places the color depth axis right after the batch axis: (samples, color_depth, height, width)\n",
    " \n",
    "\n",
    "### Text data\n",
    "The problem with text is the variable length of sentences and documents that must be represented as a fixed shaped tensor. A common solution is to convert each document to a fixed size vector, for example by using a TFIDF representation or by using a Doc2Vec algorithm.  The other solution is to represent each word as an integer ID and just put the sequence of word in a vector of fixed size. Shorter documents are padded and longer documents are cut off."
   ]
  },
  {
   "cell_type": "markdown",
   "metadata": {},
   "source": [
    "## Output encoding\n",
    "\n",
    "Binary classification: Output is the probability of the class label 1.\n",
    "\n",
    "Categorical classification: Output is a probability distribution over all classes.\n",
    "\n",
    "Depending on the problem the output often looks like one of the input encodings. Text translation, speech recognition, semantic segmentation (image to image), video to video translation etc."
   ]
  },
  {
   "cell_type": "markdown",
   "metadata": {},
   "source": [
    "## Activation functions\n",
    "Activation functions are used for two different purposes:\n",
    " 1. They add non-linear operations and enable the model to learn non-linear aspects of the data\n",
    " 2. The final activation calculates an output that is useful for prediction and loss calculation"
   ]
  },
  {
   "cell_type": "markdown",
   "metadata": {},
   "source": [
    "### Rectified Linear Unit  (ReLU)\n",
    "\n",
    "The Rectified Linear Unit computes the function:\n",
    "\n",
    "$$ f(x)=max(0, x) $$\n",
    "\n",
    "The ReLU function is currently the default function to add non-linearity to a model."
   ]
  },
  {
   "cell_type": "code",
   "execution_count": 10,
   "metadata": {},
   "outputs": [
    {
     "data": {
      "image/png": "[encoded data removed]",
      "text/plain": [
       "<matplotlib.figure.Figure at 0x1112ab128>"
      ]
     },
     "metadata": {},
     "output_type": "display_data"
    }
   ],
   "source": [
    "def ReLU(x):\n",
    "    return np.maximum(0.0, x)\n",
    "X = np.linspace(-5, 5, 100)\n",
    "plt.plot(X, ReLU(X),'b')\n",
    "plt.xlabel('X Axis')\n",
    "plt.ylabel('Y Axis')\n",
    "plt.title('ReLU Function')\n",
    "plt.grid()\n",
    "plt.text(3, 0.8, r'$ReLU(x)=max(0.0, x)$', fontsize=16)\n",
    "plt.show()"
   ]
  },
  {
   "cell_type": "markdown",
   "metadata": {},
   "source": [
    "### Sigmoid function\n",
    "\n",
    "The Sigmoid function squashes real numbers to range between [0,1].\n",
    "\n",
    "$$\n",
    "\\sigma(x) = \\frac{1}{1+e^{-x}}\n",
    "$$\n",
    "\n",
    "It is usually used as the final activation function for binary classification problems. It takes the unnormalized output of the previous layer and calculates $ P(y_i=1∣x_i) $, this is the probability that example $x_i$ belongs to class 1.\n",
    "\n"
   ]
  },
  {
   "cell_type": "code",
   "execution_count": 9,
   "metadata": {},
   "outputs": [
    {
     "data": {
      "image/png": "[encoded data removed]",
      "text/plain": [
       "<matplotlib.figure.Figure at 0x1073b7b70>"
      ]
     },
     "metadata": {},
     "output_type": "display_data"
    }
   ],
   "source": [
    "%matplotlib inline\n",
    "import matplotlib\n",
    "import numpy as np\n",
    "import matplotlib.pyplot as plt\n",
    "\n",
    "def sigma(x):\n",
    "    return 1 / (1 + np.exp(-x))\n",
    "\n",
    "X = np.linspace(-5, 5, 100)\n",
    "plt.plot(X, sigma(X),'b')\n",
    "plt.xlabel('x')\n",
    "plt.ylabel('y')\n",
    "plt.title('Sigmoid')\n",
    "plt.grid()\n",
    "plt.text(4, 0.8, r'$\\sigma(x)=\\frac{1}{1+e^{-x}}$', fontsize=16)\n",
    "plt.show()"
   ]
  },
  {
   "cell_type": "markdown",
   "metadata": {},
   "source": [
    "## Softmax"
   ]
  },
  {
   "cell_type": "markdown",
   "metadata": {},
   "source": [
    "\n",
    "\n",
    "The softmax function is a generalization of the sigmoid function to many values. It converts the activation of the previous layer into class probabilities.\n",
    "\n",
    "Let $X=[x_1,...,x_n]$ be the activation of the previous layer.\n",
    "\n",
    "$$\n",
    "softmax(x_i) = \\frac{e^{x_i}}{\\sum_i^n e^{x_i}}\n",
    "$$"
   ]
  },
  {
   "cell_type": "code",
   "execution_count": 7,
   "metadata": {},
   "outputs": [
    {
     "name": "stdout",
     "output_type": "stream",
     "text": [
      "Last layer activation: [1.0, 2.0, 3.0, 4.0, 1.0, 2.0, 3.0]\n",
      "Probabilities: [0.02364054 0.06426166 0.1746813  0.474833   0.02364054 0.06426166\n",
      " 0.1746813 ]\n",
      "Predicted class: 3\n",
      "Sum probabilities 0.9999999999999999\n"
     ]
    }
   ],
   "source": [
    "import numpy as np\n",
    "\n",
    "def softmax(z):\n",
    "    return np.exp(z) / np.sum(np.exp(z))\n",
    "\n",
    "z = [1.0, 2.0, 3.0, 4.0, 1.0, 2.0, 3.0]\n",
    "probs = softmax(z)\n",
    "print('Last layer activation:', z)\n",
    "print('Probabilities:', probs)\n",
    "print('Predicted class:', np.argmax(probs))\n",
    "print('Sum probabilities', probs.sum())"
   ]
  },
  {
   "cell_type": "markdown",
   "metadata": {},
   "source": [
    "## Loss\n",
    "\n",
    "<img src=\"images/cartoon_loss.png\" height=\"300\" width=\"400\"/>\n",
    "\n",
    "This is a cartoon depicting the effects of different learning rates:\n",
    "\n",
    " * With low learning rate the improvements will be almost linear\n",
    " * High learning rates will decay the loss faster, but they get stuck at worse values of loss (green line). This is because there is too much \"energy\" in the optimization and the parameters are bouncing around chaotically, unable to settle in a nice spot in the optimization landscape.\n",
    " * With very high learning rate the loss may even grow exponentially\n",
    "\n",
    "<img src=\"images/real_loss.png\" height=\"300\" width=\"400\"/>\n",
    "\n",
    "This is what a reasonable loss might look like. The 'noise' is generated by the batching of the dataset."
   ]
  },
  {
   "cell_type": "markdown",
   "metadata": {},
   "source": [
    "## Loss function\n",
    "\n",
    "Loss measures the compatibility between a prediction and the ground truth label. The loss takes the form of an average over the data losses for every individual example:\n",
    "\n",
    "$$\n",
    "L = \\frac{1}{N}\\sum_i^N L_i\n",
    "$$\n",
    "\n",
    "where N is the number of training examples.\n",
    "\n",
    "A common choice for multi-class classification is the Softmax classifier that uses the cross-entropy loss:\n",
    "\n",
    "$$\n",
    "L_i = -log(\\frac{e^{f_{y_i}}}{\\sum_j e^{f_j}})\n",
    "$$\n",
    "\n",
    "What does this mean?\n",
    "\n",
    "$f(x_i)$ is the output of the layer before the softmax. It is a vector that has as many elements as we have classes. Each element is the unnormalized probability for the corresponding class. $f_k$ is the k-th element of this vector.\n",
    "\n",
    "The **softmax function** is a popular choice to normalize probabilities (make them sum to 1). In our case it normalizes the unnormalized probability of the true label.\n",
    "\n",
    "At last we calculate the negative log of the predicted probability of the true class. This is called **cross entropy function**."
   ]
  },
  {
   "cell_type": "code",
   "execution_count": 9,
   "metadata": {},
   "outputs": [
    {
     "data": {
      "image/png": "[encoded data removed]",
      "text/plain": [
       "<matplotlib.figure.Figure at 0x11ab998d0>"
      ]
     },
     "metadata": {},
     "output_type": "display_data"
    }
   ],
   "source": [
    "import matplotlib.pyplot as plt\n",
    "import numpy as np\n",
    "x = np.arange(0.001, 1.0, 0.005)\n",
    "y = -np.log(x)\n",
    "plt.plot(x,y)\n",
    "plt.title('y = -log(x)')\n",
    "plt.ylabel('loss')\n",
    "plt.xlabel('predicted probability of the true class')\n",
    "plt.show()"
   ]
  },
  {
   "cell_type": "markdown",
   "metadata": {},
   "source": [
    "A high predicted probability for the true class results in a low loss. The cross entropy function only cares about the predicted probability of the true class and ignores the probabilities of the other classes.\n",
    "\n",
    "Reminder why we need the loss function:\n",
    " 1. At training it measures the train error (the loss) of the model prediction after the forward pass. This controls the gradient updates during backpropagation.\n",
    " 2. At evaluation is measures the evaluation error.\n",
    " \n",
    "The input to a cross-entropy loss must be a probability distribution. It can not be used with unnormalized scores: the log is not defined for negative numbers and for scores > 1 the loss becomes negative. "
   ]
  }
 ],
 "metadata": {
  "kernelspec": {
   "display_name": "Python 3",
   "language": "python",
   "name": "python3"
  },
  "language_info": {
   "codemirror_mode": {
    "name": "ipython",
    "version": 3
   },
   "file_extension": ".py",
   "mimetype": "text/x-python",
   "name": "python",
   "nbconvert_exporter": "python",
   "pygments_lexer": "ipython3",
   "version": "3.6.4"
  }
 },
 "nbformat": 4,
 "nbformat_minor": 2
}
