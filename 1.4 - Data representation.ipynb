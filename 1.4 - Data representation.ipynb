{
 "cells": [
  {
   "cell_type": "markdown",
   "metadata": {},
   "source": [
    "## Tensor"
   ]
  },
  {
   "cell_type": "markdown",
   "metadata": {},
   "source": [
    "A Tensor is a generalization of a matrics to an arbitrary number of dimensions.\n",
    "\n",
    "Most machine-learning framewords require tensors as their input data structure.\n",
    "\n",
    "A tensor has the following properties:\n",
    "\n",
    " * **Number of axis:** A vector has 1 axis, a matrix has 2 axis etc.\n",
    " * **Shape:** Number of dimensions along each axis, described as a tuple of integers.\n",
    " * **Data type**: The data type of the tensor values. All datatype are primitive, e.g. signed/unsigned 16/32/64 bit integer or float types.\n",
    " \n",
    "Lets look at the MNIST dataset for an example:"
   ]
  },
  {
   "cell_type": "code",
   "execution_count": 6,
   "metadata": {},
   "outputs": [
    {
     "name": "stdout",
     "output_type": "stream",
     "text": [
      "Tensor train_images:\n",
      "Number of axes: 3\n",
      "Shape: (60000, 28, 28)\n",
      "Data type: uint8\n"
     ]
    }
   ],
   "source": [
    "import numpy as np\n",
    "from tensorflow.keras.datasets import mnist\n",
    "\n",
    "(train_images, train_labels), (test_images, test_labels) = mnist.load_data()\n",
    "\n",
    "print('Tensor train_images:')\n",
    "print('Number of axes:', train_images.ndim)\n",
    "print('Shape:', train_images.shape)\n",
    "print('Data type:', train_images.dtype)"
   ]
  },
  {
   "cell_type": "markdown",
   "metadata": {},
   "source": [
    "`train_images` is a tensor of shape (60000, 28, 28), that is an array of 60K images of 28 × 28 unsigned integers."
   ]
  },
  {
   "cell_type": "markdown",
   "metadata": {},
   "source": [
    "### Scalars:\n",
    "\n",
    "A **scalar** is a tensor with zero axis that contains a single element."
   ]
  },
  {
   "cell_type": "code",
   "execution_count": 2,
   "metadata": {},
   "outputs": [
    {
     "name": "stdout",
     "output_type": "stream",
     "text": [
      "Number of axes: 0\n",
      "Shape: ()\n",
      "Data type: int64\n"
     ]
    }
   ],
   "source": [
    "x = np.array(12)\n",
    "print('Number of axes:', x.ndim)\n",
    "print('Shape:', x.shape)\n",
    "print('Data type:', x.dtype)"
   ]
  },
  {
   "cell_type": "markdown",
   "metadata": {},
   "source": [
    "### Vectors\n",
    "\n",
    "A **vector** is a tensor with one axis."
   ]
  },
  {
   "cell_type": "code",
   "execution_count": 3,
   "metadata": {},
   "outputs": [
    {
     "name": "stdout",
     "output_type": "stream",
     "text": [
      "Number of axes: 1\n",
      "Shape: (4,)\n",
      "Data type: float64\n"
     ]
    }
   ],
   "source": [
    "x = np.array([3.0, 5.0, 1.0, 24.0])\n",
    "print('Number of axes:', x.ndim)\n",
    "print('Shape:', x.shape)\n",
    "print('Data type:', x.dtype)"
   ]
  },
  {
   "cell_type": "markdown",
   "metadata": {},
   "source": [
    "This tensor is a a 4-dimensional vector."
   ]
  },
  {
   "cell_type": "markdown",
   "metadata": {},
   "source": [
    "### Matrices\n",
    "\n",
    "A **matrix** is a tensor with two axes, often referred to as rows and columns."
   ]
  },
  {
   "cell_type": "code",
   "execution_count": 4,
   "metadata": {},
   "outputs": [
    {
     "name": "stdout",
     "output_type": "stream",
     "text": [
      "Number of axes: 2\n",
      "Shape: (3, 5)\n",
      "Data type: int64\n"
     ]
    }
   ],
   "source": [
    "x = np.array([[5, 63, 5, 24, 8],\n",
    "              [6, 71, 8, 42, 3],\n",
    "              [7, 33, 1, 30, 8]])\n",
    "print('Number of axes:', x.ndim)\n",
    "print('Shape:', x.shape)\n",
    "print('Data type:', x.dtype)"
   ]
  },
  {
   "cell_type": "markdown",
   "metadata": {},
   "source": [
    "### Higher dimensional Tensors\n",
    "\n",
    "We can create a Tensor with n axis by stacking Tensors with n-1 axis on top of each other.\n",
    "\n",
    "Example for a Tensor with 3 axes:"
   ]
  },
  {
   "cell_type": "code",
   "execution_count": 5,
   "metadata": {},
   "outputs": [
    {
     "name": "stdout",
     "output_type": "stream",
     "text": [
      "Number of axes: 3\n",
      "Shape: (2, 3, 3)\n",
      "Data type: int64\n"
     ]
    }
   ],
   "source": [
    "x = np.array([\n",
    "    [[1, 2, 3],\n",
    "     [4, 5, 6],\n",
    "     [7, 8, 9]],\n",
    "    [[10, 20, 30],\n",
    "     [40, 50, 60],\n",
    "     [70, 80, 90]]\n",
    "    ])\n",
    "print('Number of axes:', x.ndim)\n",
    "print('Shape:', x.shape)\n",
    "print('Data type:', x.dtype)"
   ]
  },
  {
   "cell_type": "markdown",
   "metadata": {},
   "source": [
    "## Practical tensor examples\n",
    "\n",
    "By convention, the first axis in all data tensors will be the **batch, sample or dataset size**. \n",
    "\n",
    "In other words the first axis indexes or enumerates the examples in a tensor.\n",
    "\n",
    "\n",
    "### Image data\n",
    "\n",
    "Color images have three dimensions: height, width, and color depth. \n",
    "\n",
    "A batch of 128 images can be stored in a tensor of shape (128, 256, 256, 3).\n",
    "\n",
    "<img src=\"images/4d-tensor.png\" height=\"30\" width=\"400\"/>\n",
    "\n",
    "The color dimension is frequently called **channel**.\n",
    "\n",
    "\n",
    " \n",
    "### Text data\n",
    "\n",
    "The problem with text is the variable length of sentences and documents that must be represented as a fix shaped tensor. \n",
    "\n",
    "A common solution is to convert each document to a fix sized vector, for example by using a TFIDF representation or by using document embeddings.  \n",
    "\n",
    "The other solution is to represent each word as an integer ID and just put the sequence of word in a vector of fixed size. \n",
    "\n",
    "Shorter documents are padded and longer documents are cut short."
   ]
  },
  {
   "cell_type": "markdown",
   "metadata": {},
   "source": [
    "## Output encoding\n",
    "\n",
    "**Binary classification:** Output is the probability of the example belonging to class 1.\n",
    "\n",
    "**Categorical classification:** Output is a probability distribution over all classes.\n",
    "\n",
    "**Regression:** Output is usually a real number.\n",
    "\n",
    "Depending on the problem the output might use the **same encoding as the input**: \n",
    "\n",
    " * Text translation\n",
    " * Semantic segmentation (image to image)\n",
    " * Video to video"
   ]
  }
 ],
 "metadata": {
  "kernelspec": {
   "display_name": "Python 3",
   "language": "python",
   "name": "python3"
  },
  "language_info": {
   "codemirror_mode": {
    "name": "ipython",
    "version": 3
   },
   "file_extension": ".py",
   "mimetype": "text/x-python",
   "name": "python",
   "nbconvert_exporter": "python",
   "pygments_lexer": "ipython3",
   "version": "3.8.6"
  }
 },
 "nbformat": 4,
 "nbformat_minor": 4
}
