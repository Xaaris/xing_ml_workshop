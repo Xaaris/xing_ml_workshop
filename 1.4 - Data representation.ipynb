{
 "cells": [
  {
   "cell_type": "markdown",
   "metadata": {},
   "source": [
    "## Tensor"
   ]
  },
  {
   "cell_type": "markdown",
   "metadata": {},
   "source": [
    "A tensor is a container for numerical data. Tensors are a generalization of matrices to an arbitrary number of dimensions. \n",
    "\n",
    "In general, all current machine-learning systems require tensors as their input data structure.\n",
    "\n",
    "A tensor has the following properties:\n",
    "\n",
    " * **Number of axis:** A vector has 1 axis, a matrix has 2 axis ets. The number of axis is also called the rank.\n",
    " * **Shape:** A tuple of integers that describes how many dimensions the tensor has along each axis. A matrix might have a shape (3,5). A vector has a shape with a single element, such as (5), whereas a scalar has an empty shape ().\n",
    " * **Data type**: The data type of the tensor values. This is a numeric like int8 or float32, but it could also be a character or string.\n",
    " \n",
    "Lets look at the MNIST dataset for an example:"
   ]
  },
  {
   "cell_type": "code",
   "execution_count": 9,
   "metadata": {},
   "outputs": [
    {
     "name": "stdout",
     "output_type": "stream",
     "text": [
      "Tensor train_images:\n",
      "Number of axes: 3\n",
      "Shape: (60000, 28, 28)\n",
      "Data type: uint8\n"
     ]
    }
   ],
   "source": [
    "import numpy as np\n",
    "from keras.datasets import mnist\n",
    "\n",
    "(train_images, train_labels), (test_images, test_labels) = mnist.load_data()\n",
    "\n",
    "print('Tensor train_images:')\n",
    "print('Number of axes:', train_images.ndim)\n",
    "print('Shape:', train_images.shape)\n",
    "print('Data type:', train_images.dtype)"
   ]
  },
  {
   "cell_type": "markdown",
   "metadata": {},
   "source": [
    "`train_images` is a 3D tensor that is an array of 60,000 matrices of 28 × 28 integers."
   ]
  },
  {
   "cell_type": "markdown",
   "metadata": {},
   "source": [
    "### Scalars (0D tensors):\n",
    "A tensor that contains only one number is called a *scalar*."
   ]
  },
  {
   "cell_type": "code",
   "execution_count": 10,
   "metadata": {},
   "outputs": [
    {
     "name": "stdout",
     "output_type": "stream",
     "text": [
      "Number of axes: 0\n",
      "Shape: ()\n",
      "Data type: int64\n"
     ]
    }
   ],
   "source": [
    "x = np.array(12)\n",
    "print('Number of axes:', x.ndim)\n",
    "print('Shape:', x.shape)\n",
    "print('Data type:', x.dtype)"
   ]
  },
  {
   "cell_type": "markdown",
   "metadata": {},
   "source": [
    "### Vectors (1D tensors)\n",
    "An array of numbers is called a *vector*, it has one axis."
   ]
  },
  {
   "cell_type": "code",
   "execution_count": 11,
   "metadata": {},
   "outputs": [
    {
     "name": "stdout",
     "output_type": "stream",
     "text": [
      "Number of axes: 1\n",
      "Shape: (4,)\n",
      "Data type: float64\n"
     ]
    }
   ],
   "source": [
    "x = np.array([3.0, 5.0, 1.0, 24.0])\n",
    "print('Number of axes:', x.ndim)\n",
    "print('Shape:', x.shape)\n",
    "print('Data type:', x.dtype)"
   ]
  },
  {
   "cell_type": "markdown",
   "metadata": {},
   "source": [
    "This vector is a a 4-dimensional vector.\n",
    "\n",
    "**Note:** Don’t confuse a 4-dimensional vector with a 4D tensor! A 4-dimensional vector has only one axis and has four dimensions along its axis, whereas a 4D tensor has four axes (and may have any number of dimensions along each axis). The term dimensionality is overloaded and can denote either the number of entries along a specific axis (as in the case of our 4-dimensional vector) or the number of axes in a tensor (such as a 4D tensor).\n",
    "\n",
    "\n"
   ]
  },
  {
   "cell_type": "markdown",
   "metadata": {},
   "source": [
    "### Matrices (2D tensors)\n",
    "An array of vectors is a matrix. A matrix has two axes, often referred to as rows and columns. "
   ]
  },
  {
   "cell_type": "code",
   "execution_count": 13,
   "metadata": {},
   "outputs": [
    {
     "name": "stdout",
     "output_type": "stream",
     "text": [
      "Number of axes: 2\n",
      "Shape: (3, 5)\n",
      "Data type: int64\n"
     ]
    }
   ],
   "source": [
    "x = np.array([[5, 63, 5, 24, 8],\n",
    "              [6, 71, 8, 42, 3],\n",
    "              [7, 33, 1, 30, 8]])\n",
    "print('Number of axes:', x.ndim)\n",
    "print('Shape:', x.shape)\n",
    "print('Data type:', x.dtype)"
   ]
  },
  {
   "cell_type": "markdown",
   "metadata": {},
   "source": [
    "### Higher dimensional Tensors\n",
    "We can create an nD Tensor by arranging (n-1)D Tensors in an array. Example for a 3D Tensor:"
   ]
  },
  {
   "cell_type": "code",
   "execution_count": 14,
   "metadata": {},
   "outputs": [
    {
     "name": "stdout",
     "output_type": "stream",
     "text": [
      "Number of axes: 3\n",
      "Shape: (2, 3, 3)\n",
      "Data type: int64\n"
     ]
    }
   ],
   "source": [
    "x = np.array([\n",
    "    [[1, 2, 3],\n",
    "     [4, 5, 6],\n",
    "     [7, 8, 9]],\n",
    "    [[10, 20, 30],\n",
    "     [40, 50, 60],\n",
    "     [70, 80, 90]]\n",
    "    ])\n",
    "print('Number of axes:', x.ndim)\n",
    "print('Shape:', x.shape)\n",
    "print('Data type:', x.dtype)"
   ]
  },
  {
   "cell_type": "markdown",
   "metadata": {},
   "source": [
    "## TODO Tensor operations"
   ]
  },
  {
   "cell_type": "markdown",
   "metadata": {},
   "source": [
    "## Practical tensor examples\n",
    "\n",
    "In general, the first axis (axis 0) in all data tensors will be the samples axis. In the MNIST example, samples are images of digits. In addition, models don’t process an entire dataset at once, it is usually broken into smaller batches. For such a batch tensor, the first axis (axis 0) is called the batch axis.\n",
    "\n",
    "### Timeseries data\n",
    "\n",
    "When you want to represent a timeseries it makes sense to store it in a 3D tensor with an explicit time axis. In this case axis 1 will represent time and axis 2 will represent the features of the example.\n",
    "\n",
    "<img src=\"images/3d-tensor.png\" height=\"30\" width=\"400\"/>\n",
    "\n",
    "For example take a dataset of stock prices:\n",
    "\n",
    " * There are 390 minutes in a trading day, this are our timesteps\n",
    " * At the end of every minute the following features are recorded:\n",
    "   * the current stock price\n",
    "   * the highest price in the past minute\n",
    "   * the lowest price in the past minute\n",
    "   \n",
    "When a trading day constitutes a single example it can be represented as tensor of shape (390, 3). A dataset of 200 trading days can be represented as tensor of shape (200, 390, 3).\n",
    "\n",
    "### Image data\n",
    "\n",
    "Images have three dimensions: height, width, and color depth. A batch of 128 color images can be stored in a tensor of shape (128, 256, 256, 3).\n",
    "\n",
    "<img src=\"images/4d-tensor.png\" height=\"30\" width=\"400\"/>\n",
    "\n",
    "The color dimension is often called **channel**. Note that there may be image formats with more than 3 dimensions, for example satellite images often contain non-visible bands of radiation.\n",
    "\n",
    "Grayscale images could be stored as a 2D tensor, e.g. (256, 256). But usually they are stored as a 3D tensor with a 'fake' dimension, e.g. (256, 256, 1. It is usually more convenient to use the same shape for grayscale and color images.\n",
    "\n",
    "There are two formats for shapes of image tensors: \n",
    "\n",
    " * `channels-last` places the color-depth axis at the end: (samples, height, width, color_depth)\n",
    " * `channels-first` places the color depth axis right after the batch axis: (samples, color_depth, height, width)\n",
    " \n",
    "\n",
    "### Text data\n",
    "The problem with text is the variable length of sentences and documents that must be represented as a fixed shaped tensor. A common solution is to convert each document to a fixed size vector, for example by using a TFIDF representation or by using a Doc2Vec algorithm.  The other solution is to represent each word as an integer ID and just put the sequence of word in a vector of fixed size. Shorter documents are padded and longer documents are cut off."
   ]
  },
  {
   "cell_type": "markdown",
   "metadata": {},
   "source": [
    "## Output encoding\n",
    "\n",
    "Binary classification: Output is the probability of the class label 1.\n",
    "\n",
    "Categorical classification: Output is a probability distribution over all classes.\n",
    "\n",
    "Depending on the problem the output often looks like one of the input encodings. Text translation, speech recognition, semantic segmentation (image to image), video to video translation etc."
   ]
  }
 ],
 "metadata": {
  "kernelspec": {
   "display_name": "Python 3",
   "language": "python",
   "name": "python3"
  },
  "language_info": {
   "codemirror_mode": {
    "name": "ipython",
    "version": 3
   },
   "file_extension": ".py",
   "mimetype": "text/x-python",
   "name": "python",
   "nbconvert_exporter": "python",
   "pygments_lexer": "ipython3",
   "version": "3.6.4"
  }
 },
 "nbformat": 4,
 "nbformat_minor": 2
}
