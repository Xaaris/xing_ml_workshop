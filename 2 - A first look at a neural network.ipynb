{
 "cells": [
  {
   "cell_type": "markdown",
   "metadata": {},
   "source": [
    "As an introduction we'll look at a classification problem. The goal of classification is to predict a category out of a set of possible categories for an input. \n",
    "\n",
    "More specific, we are generating a probability distribution over the set of categories. As predicted category we take the category with the highest probability. The advantage of working with probability distributions is that is gives us a measure of confidence for the prediction.\n",
    "\n",
    "The problem we are solving here is to classify grayscale images of handwritten digits (28x28 pixels) into 10 different categories (0 through 9). We’ll use the MNIST dataset. It’s a set of 60,000 training images, plus 10,000 test images.\n",
    "\n",
    "Here are some example images from MNIST:\n",
    "\n",
    "<img src=\"images/mnist-1.jpg\" height=\"450\" width=\"600\"/>\n",
    "\n",
    "Note the different train and test datasets. We'll train the model on the train dataset and evaluate it on the test dataset. This separation is very important for a correct measurement of the model performance. \n",
    "\n",
    "We want to measure how well the model performs on data it has never seen before, this property is called **generalization**. At some point in the training process the model will overfit on the training data and as a result the performance on the test data will get worse.\n",
    "\n",
    "Some ML terminology:\n",
    " * data points are called **samples**, usually denoted as $x$ for a single example or $X$ for multiple examples\n",
    " * a category in a classification problem is called a **class**\n",
    " * the class associated with a specific sample is called a **label**, usually denoted as $y$\n",
    "\n"
   ]
  },
  {
   "cell_type": "markdown",
   "metadata": {},
   "source": [
    "### Load the MNIST dataset"
   ]
  },
  {
   "cell_type": "code",
   "execution_count": 1,
   "metadata": {},
   "outputs": [
    {
     "name": "stderr",
     "output_type": "stream",
     "text": [
      "/Users/asprenger/anaconda3-5.1.0/lib/python3.6/site-packages/h5py/__init__.py:36: FutureWarning: Conversion of the second argument of issubdtype from `float` to `np.floating` is deprecated. In future, it will be treated as `np.float64 == np.dtype(float).type`.\n",
      "  from ._conv import register_converters as _register_converters\n",
      "Using TensorFlow backend.\n"
     ]
    },
    {
     "name": "stdout",
     "output_type": "stream",
     "text": [
      "Train images: (60000, 28, 28)\n",
      "Train labels: (60000,)\n",
      "Test labels: (10000, 28, 28)\n",
      "Test labels: (10000,)\n"
     ]
    }
   ],
   "source": [
    "from keras.datasets import mnist\n",
    "(train_images, train_labels), (test_images, test_labels) = mnist.load_data()\n",
    "print('Train images:', train_images.shape)\n",
    "print('Train labels:', train_labels.shape)\n",
    "print('Test labels:', test_images.shape)\n",
    "print('Test labels:', test_labels.shape)"
   ]
  },
  {
   "cell_type": "markdown",
   "metadata": {},
   "source": [
    "### Plot some training examples"
   ]
  },
  {
   "cell_type": "code",
   "execution_count": 2,
   "metadata": {},
   "outputs": [
    {
     "name": "stdout",
     "output_type": "stream",
     "text": [
      "Label: 5\n"
     ]
    },
    {
     "data": {
      "image/png": "[encoded data removed]",
      "text/plain": [
       "<matplotlib.figure.Figure at 0x181f4310b8>"
      ]
     },
     "metadata": {},
     "output_type": "display_data"
    },
    {
     "name": "stdout",
     "output_type": "stream",
     "text": [
      "Label: 0\n"
     ]
    },
    {
     "data": {
      "image/png": "[encoded data removed]",
      "text/plain": [
       "<matplotlib.figure.Figure at 0x182c604f98>"
      ]
     },
     "metadata": {},
     "output_type": "display_data"
    },
    {
     "name": "stdout",
     "output_type": "stream",
     "text": [
      "Label: 4\n"
     ]
    },
    {
     "data": {
      "image/png": "[encoded data removed]",
      "text/plain": [
       "<matplotlib.figure.Figure at 0x182c62f588>"
      ]
     },
     "metadata": {},
     "output_type": "display_data"
    }
   ],
   "source": [
    "%matplotlib inline\n",
    "import matplotlib.pyplot as plt\n",
    "\n",
    "for i in range(3):\n",
    "    plt.imshow(train_images[i], cmap='gray')\n",
    "    print('Label:', train_labels[i])\n",
    "    plt.show()\n"
   ]
  },
  {
   "cell_type": "markdown",
   "metadata": {},
   "source": [
    "`train_images` and `train_labels` form the training set, the data that the model will learn from. The model will then be tested on the test set, `test_images` and `test_labels`.\n",
    "\n",
    "The images are encoded as Numpy arrays, and the labels are an array of digits, ranging from 0 to 9. The images and labels have a one-to-one correspondence.\n",
    "\n",
    "The workflow will be as follows: \n",
    " 1. We’ll feed the neural network the training data, `train_images` and `train_labels`. \n",
    " 2. The network will then learn to associate images and labels. \n",
    " 3. We’ll ask the network to produce predictions for `test_images`, and we’ll verify whether these predictions match the labels from `test_labels`."
   ]
  },
  {
   "cell_type": "markdown",
   "metadata": {},
   "source": [
    "## Build the model"
   ]
  },
  {
   "cell_type": "code",
   "execution_count": 7,
   "metadata": {},
   "outputs": [],
   "source": [
    "from keras import models\n",
    "from keras import layers\n",
    "\n",
    "inputs = layers.Input((28 * 28,))\n",
    "x = layers.Dense(units=256, activation='relu')(inputs)\n",
    "output = layers.Dense(units=10, activation='softmax')(x)\n",
    "model = models.Model(inputs=inputs, outputs=output)"
   ]
  },
  {
   "cell_type": "markdown",
   "metadata": {},
   "source": [
    "The core building block of neural networks is the **layer**, which is basicly a function. \n",
    "Here, our network consists of a sequence of two dense layers. A dense layer implements the following function:\n",
    "\n",
    "$ output = activation(dot(W, input) + b) $\n",
    "\n",
    "$W$ and $b$ are parameters of the layer. The **activation function** computes the output of a layer.\n",
    "\n",
    "The `units` argument specifies the dimensionality of the output.\n",
    "\n",
    "The last layer uses a **softmax** activation function, which means it will return an array of 10 probability scores (summing to 1). Each score will be the probability that the current digit image belongs to one of our 10 digit classes.\n",
    "\n",
    "The actual prediction will be the class with the highest probability."
   ]
  },
  {
   "cell_type": "code",
   "execution_count": 8,
   "metadata": {},
   "outputs": [
    {
     "name": "stdout",
     "output_type": "stream",
     "text": [
      "_________________________________________________________________\n",
      "Layer (type)                 Output Shape              Param #   \n",
      "=================================================================\n",
      "input_3 (InputLayer)         (None, 784)               0         \n",
      "_________________________________________________________________\n",
      "dense_5 (Dense)              (None, 256)               200960    \n",
      "_________________________________________________________________\n",
      "dense_6 (Dense)              (None, 10)                2570      \n",
      "=================================================================\n",
      "Total params: 203,530\n",
      "Trainable params: 203,530\n",
      "Non-trainable params: 0\n",
      "_________________________________________________________________\n"
     ]
    }
   ],
   "source": [
    "model.summary()"
   ]
  },
  {
   "cell_type": "markdown",
   "metadata": {},
   "source": [
    "A model has the following primary methods:\n",
    "\n",
    " * `fit()`: this trains the model by 'fitting' the model parameters to the training data\n",
    " * `evaluate()`: measure the performance of the model by calculating evaluation metrics\n",
    " * `predict()`: predict labels for a set of examples\n",
    "\n",
    "\n",
    "To make the network ready for training, we need three more things:\n",
    " * **loss function -** this measures the models prediction error, the difference between the prediction and the ground truth.\n",
    " * **optimizer -** an algorithm through which the model will update its parameters based on the training examples it sees and the loss calculated by the loss function\n",
    " * **other metrics -** in this case we only care about **accuracy**, the fraction of the images that were correctly classified\n",
    " \n",
    "The model must be compiled to be ready for training."
   ]
  },
  {
   "cell_type": "code",
   "execution_count": 17,
   "metadata": {},
   "outputs": [],
   "source": [
    "model.compile(optimizer='rmsprop',\n",
    "              loss='sparse_categorical_crossentropy',\n",
    "              metrics=['accuracy'])"
   ]
  },
  {
   "cell_type": "markdown",
   "metadata": {},
   "source": [
    "Before we can start the training we need to preprocess the images. \n",
    "\n",
    "The model expects each train/test example as a vector, therefore we flatten the images. \n",
    "\n",
    "We also transform the image values to the range [0, 1], this helps the model to train faster."
   ]
  },
  {
   "cell_type": "code",
   "execution_count": 16,
   "metadata": {},
   "outputs": [
    {
     "name": "stdout",
     "output_type": "stream",
     "text": [
      "Before preprocessing:\n",
      "Train images: (60000, 28, 28) uint8\n",
      "Test images: (10000, 28, 28) uint8\n",
      "\n",
      " After preprocessing:\n",
      "Train images: (60000, 784) float32\n",
      "Test images: (10000, 784) float32\n"
     ]
    }
   ],
   "source": [
    "print('Before preprocessing:')\n",
    "print('Train images:', train_images.shape, train_images.dtype)\n",
    "print('Test images:', test_images.shape, test_images.dtype)\n",
    "\n",
    "train_images = train_images.reshape((60000, 28 * 28))\n",
    "train_images = train_images.astype('float32') / 255\n",
    "test_images = test_images.reshape((10000, 28 * 28))\n",
    "test_images = test_images.astype('float32') / 255\n",
    "\n",
    "print('\\n After preprocessing:')\n",
    "print('Train images:', train_images.shape, train_images.dtype)\n",
    "print('Test images:', test_images.shape, test_images.dtype)"
   ]
  },
  {
   "cell_type": "markdown",
   "metadata": {},
   "source": [
    "We’re now ready to train the network. This is done by calling the models `fit()` method, it fits the model to its training data. \n",
    "\n",
    "`fit()` takes the following arguments:\n",
    "\n",
    " * train_images - the examples to train on\n",
    " * train_labels - the labels to calculate the loss\n",
    " * epochs - number of iterations over the training data\n",
    " * batch_size - number of examples to process in one step"
   ]
  },
  {
   "cell_type": "markdown",
   "metadata": {},
   "source": [
    "## Train the model"
   ]
  },
  {
   "cell_type": "code",
   "execution_count": 18,
   "metadata": {},
   "outputs": [
    {
     "name": "stdout",
     "output_type": "stream",
     "text": [
      "Epoch 1/5\n",
      "60000/60000 [==============================] - 2s 38us/step - loss: 0.2895 - acc: 0.9189\n",
      "Epoch 2/5\n",
      "60000/60000 [==============================] - 2s 33us/step - loss: 0.1268 - acc: 0.9628\n",
      "Epoch 3/5\n",
      "60000/60000 [==============================] - 2s 33us/step - loss: 0.0864 - acc: 0.9746\n",
      "Epoch 4/5\n",
      "60000/60000 [==============================] - 2s 33us/step - loss: 0.0648 - acc: 0.9805\n",
      "Epoch 5/5\n",
      "60000/60000 [==============================] - 2s 34us/step - loss: 0.0509 - acc: 0.9851\n"
     ]
    }
   ],
   "source": [
    "h = model.fit(train_images, train_labels, epochs=5, batch_size=128)"
   ]
  },
  {
   "cell_type": "markdown",
   "metadata": {},
   "source": [
    "Two quantities are displayed during training: \n",
    " * `loss`: the loss of the network over the training data\n",
    " * `acc`: the accuracy of the network over the training data\n",
    " \n",
    "Now lets check how the model performs on the test data:"
   ]
  },
  {
   "cell_type": "markdown",
   "metadata": {},
   "source": [
    "## Evaluate the model"
   ]
  },
  {
   "cell_type": "code",
   "execution_count": 16,
   "metadata": {},
   "outputs": [
    {
     "name": "stdout",
     "output_type": "stream",
     "text": [
      "Test accuracy: 0.9773\n"
     ]
    }
   ],
   "source": [
    "_, test_acc = model.evaluate(test_images, test_labels, verbose=0)\n",
    "print('Test accuracy:', test_acc)"
   ]
  },
  {
   "cell_type": "markdown",
   "metadata": {},
   "source": [
    "The accuracy is the percentage of correct predictions. \n",
    "\n",
    "The test accuracy is lower than the train accuracy. This is expected and called **overfitting** - during training the model learns aspects of the examples that are specific for the training data.\n",
    "\n",
    "On a realworld problem it is usually not possible to train a model with perfect test accuracy. Having a test accuracy close to 1.0 usually means you have a bug in your preprocessing or training code and the model does not generalize."
   ]
  },
  {
   "cell_type": "markdown",
   "metadata": {},
   "source": [
    "## Confusion matrix\n",
    "The accuracy metric is the mean accuracy over all classes. The **confusion matix** is a tool to better understand the predictive performance of a model on individual classes. It breaks the evaluation result down and shows the correct and incorrect predictions for individual classes."
   ]
  },
  {
   "cell_type": "code",
   "execution_count": 31,
   "metadata": {},
   "outputs": [
    {
     "name": "stdout",
     "output_type": "stream",
     "text": [
      "Predicted    0     1     2    3    4    5    6     7    8    9\n",
      "True                                                          \n",
      "0          970     0     0    2    0    1    2     1    3    1\n",
      "1            0  1124     3    1    0    1    3     0    3    0\n",
      "2            4     1  1008    1    2    0    2     7    7    0\n",
      "3            0     0     5  986    1    7    0     4    6    1\n",
      "4            1     0     5    1  958    0    2     1    1   13\n",
      "5            2     0     0    6    0  875    6     1    2    0\n",
      "6            5     2     1    1    2    5  941     0    1    0\n",
      "7            2     5     9    2    0    0    0  1004    1    5\n",
      "8            3     0     4    7    2    3    2     3  947    3\n",
      "9            3     7     0    8   14    5    1     4    7  960\n"
     ]
    }
   ],
   "source": [
    "import numpy as np\n",
    "import pandas as pd\n",
    "probabilities = model.predict(test_images)\n",
    "predictions = np.argmax(probabilities, axis=1)\n",
    "confusion_matrix = pd.crosstab(test_labels, predictions, rownames=['True'], colnames=['Predicted'], margins=False)\n",
    "print(confusion_matrix)\n"
   ]
  },
  {
   "cell_type": "markdown",
   "metadata": {},
   "source": [
    "The vertical axis represents the true labels and the horizontal axis represents the predicted labels. The values in the matrix are the counts how many times a true label has been predicted as one of the 10 classes. The main diagonal are the correct predictions, this is where a good model will have most of the counts.\n",
    "\n",
    "In the example you can see that `4` and `9` are often confused with each other. `4` is predicted 13 times as `9` and `9` has been predicted 14 times as `4`. This makes sense because the two digits have a similar shape. On the other hand `0` and `1` are never confused with each other."
   ]
  },
  {
   "cell_type": "markdown",
   "metadata": {},
   "source": [
    "## Use the model for prediction\n",
    "\n",
    "Generate predictions for the first 5 images of the test dataset."
   ]
  },
  {
   "cell_type": "code",
   "execution_count": 30,
   "metadata": {},
   "outputs": [
    {
     "name": "stdout",
     "output_type": "stream",
     "text": [
      "True labels: [7 2 1 0 4]\n",
      "Predicted labels: [7 2 1 0 4]\n"
     ]
    },
    {
     "data": {
      "image/png": "[encoded data removed]",
      "text/plain": [
       "<matplotlib.figure.Figure at 0x182eb656d8>"
      ]
     },
     "metadata": {},
     "output_type": "display_data"
    },
    {
     "data": {
      "image/png": "[encoded data removed]",
      "text/plain": [
       "<matplotlib.figure.Figure at 0x181ef60f28>"
      ]
     },
     "metadata": {},
     "output_type": "display_data"
    },
    {
     "data": {
      "image/png": "[encoded data removed]",
      "text/plain": [
       "<matplotlib.figure.Figure at 0x1199df438>"
      ]
     },
     "metadata": {},
     "output_type": "display_data"
    },
    {
     "data": {
      "image/png": "[encoded data removed]",
      "text/plain": [
       "<matplotlib.figure.Figure at 0x119a6f198>"
      ]
     },
     "metadata": {},
     "output_type": "display_data"
    },
    {
     "data": {
      "image/png": "[encoded data removed]",
      "text/plain": [
       "<matplotlib.figure.Figure at 0x119b0c2e8>"
      ]
     },
     "metadata": {},
     "output_type": "display_data"
    }
   ],
   "source": [
    "import numpy as np\n",
    "probabilities = model.predict(test_images[0:5])\n",
    "predicted_labels = np.argmax(probabilities, axis=1)\n",
    "\n",
    "print('True labels:', test_labels[0:5])\n",
    "print('Predicted labels:', predicted_labels)\n",
    "\n",
    "for i in range(predicted_labels.shape[0]):\n",
    "    plt.imshow(test_images[i].reshape(28,28), cmap='gray')\n",
    "    plt.show()\n"
   ]
  },
  {
   "cell_type": "markdown",
   "metadata": {},
   "source": [
    "**TODO** plot some mispredictions"
   ]
  }
 ],
 "metadata": {
  "kernelspec": {
   "display_name": "Python 3",
   "language": "python",
   "name": "python3"
  },
  "language_info": {
   "codemirror_mode": {
    "name": "ipython",
    "version": 3
   },
   "file_extension": ".py",
   "mimetype": "text/x-python",
   "name": "python",
   "nbconvert_exporter": "python",
   "pygments_lexer": "ipython3",
   "version": "3.6.4"
  }
 },
 "nbformat": 4,
 "nbformat_minor": 2
}
