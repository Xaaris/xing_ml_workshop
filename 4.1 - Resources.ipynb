{
 "cells": [
  {
   "cell_type": "markdown",
   "metadata": {},
   "source": [
    "# Resources\n",
    "\n",
    "A collection of links as a follow up for the workshop.\n",
    "\n",
    "## Machine Learning / Deep Learning\n",
    "\n",
    "The [Coursera Machine Learning course, Andrew Ng](https://www.coursera.org/learn/machine-learning) is quite popular, has high quality content and should be easy to follow.\n",
    "\n",
    "The [Fast AI courses](http://www.fast.ai/) are a good AI introduction with software developers as target audience.\n",
    "\n",
    "[http://www.deeplearningbook.org](http://www.deeplearningbook.org/) is a book that covers everything about Machine learning in general and deep learning in particular.\n",
    "\n",
    "Hugo Larochelle course [Neural networks class](https://www.youtube.com/playlist?list=PL6Xpj9I5qXYEcOhn7TqghAJ6NAPrNmUBH) is an good introduction to neuronal networks. Goes through all the gradient derivations for networks in great detail.\n",
    "\n",
    "The [Deep Learning (DLSS) and Reinforcement Learning (RLSS) Summer School, Montreal 2017](http://videolectures.net/deeplearning2017_montreal/) convers all DL and RL topics. This is mostly for PhD people and quite math-heavy.\n",
    "\n",
    "\n",
    "## Keras\n",
    "\n",
    "The [Deep Learning with Python](https://www.manning.com/books/deep-learning-with-python) book is the best introduction to Keras at the moment.\n",
    "\n",
    "The [Keras Blog](https://blog.keras.io/) has many interesting articles about Keras and ML in general.\n",
    "\n",
    "The [Keras examples](https://github.com/keras-team/keras/tree/master/examples) on Github are a good reference how to implement most standard ML models.\n",
    "\n",
    "The TensorFlow documentation has some basic [Keras examples](https://www.tensorflow.org/tutorials/keras/).\n",
    "\n",
    "\n",
    "## NLP\n",
    "\n",
    "[CS224n: Natural Language Processing with Deep Learning](http://web.stanford.edu/class/cs224n) is a Stanford lecture about NLP, all videos are online.\n",
    "\n",
    "\n",
    "## Image processing\n",
    "\n",
    "[CS231n: Convolutional Neural Networks for Visual Recognition](http://cs231n.stanford.edu/) is a Stanford lecture about image processing, all videos are online.\n",
    "\n"
   ]
  }
 ],
 "metadata": {
  "kernelspec": {
   "display_name": "Python 3",
   "language": "python",
   "name": "python3"
  },
  "language_info": {
   "codemirror_mode": {
    "name": "ipython",
    "version": 3
   },
   "file_extension": ".py",
   "mimetype": "text/x-python",
   "name": "python",
   "nbconvert_exporter": "python",
   "pygments_lexer": "ipython3",
   "version": "3.6.4"
  }
 },
 "nbformat": 4,
 "nbformat_minor": 2
}
