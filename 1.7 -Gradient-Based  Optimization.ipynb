{
 "cells": [
  {
   "cell_type": "markdown",
   "metadata": {},
   "source": [
    "What we are currently having:\n",
    "\n",
    " * a **dataset** with examples $x$ and associated target values $y$\n",
    " * a **model** $f(x)$ to that can make prediction given some $x$\n",
    " * a **loss function** L that measure how good model predictions are\n",
    "\n",
    "The next step is to find model **parameters** that result in a low loss over the dataset.\n",
    "\n",
    "Remember the MNIST classification example:\n",
    "\n",
    "$$\n",
    "\\begin{align}\n",
    "z & = relu(W_1 \\cdot x + b_1) \\\\\n",
    "f(x) & = softmax(W_2 \\cdot z + b_2)\n",
    "\\end{align}\n",
    "$$\n",
    "\n",
    "In this expression, $W_1$, $W_2$, $b_1$ and $b_2$ are the parameters of the model. \n",
    "\n",
    "For convenience we will denote the parameter of a model as $\\theta$. \n",
    "\n",
    "In our example $\\theta = \\{W_1, W_2, b_2, b_2 \\}$.\n",
    "\n",
    "Initially the parameters are filled with random values. \n",
    "\n",
    "Obviously the model will not predict anything useful in this state.\n",
    "\n",
    "**Optimization** refers to the task of minimizing the loss function $L(x, y, \\theta)$ by altering $\\theta$.\n",
    "\n",
    "We'll take advantage of the fact that all model operations are differentiable.\n",
    "\n",
    "We'll compute the **gradient** of the loss function with respect to the model's parameters, this will tell us how to update the parameters to decrease the loss."
   ]
  },
  {
   "cell_type": "markdown",
   "metadata": {},
   "source": [
    "## Derivative of a function\n",
    "\n",
    "Suppose we have a function $y=f(x)$, where both $x$ and $y$ are real numbers.\n",
    "\n",
    "The derivative of this function is denoted as:\n",
    "\n",
    "$$f'(x) = \\frac{d}{dx}f(x) = \\frac{d f(x)}{dx}$$\n",
    "\n",
    "$\\frac{d}{dx}$ is called the **differential operator**. \n",
    "\n",
    "You can think of $\\frac{d}{dx}$ as an operator that maps a function to the derivative of the function.\n",
    "\n",
    "The derivative $\\frac{d}{dx} f(x)$ gives the **slope** of $f(x)$ at the point $x$.\n",
    "\n",
    "\n",
    "In other words is specifies how the value of $f(x)$ changes if we increase $x$ by a small amount.\n",
    "\n",
    "If the derivative is **negative**, a small increase of x will result in a decrease of f(x). \n",
    "\n",
    "If the derivative is **positive**, a small increase of x will result in an increase of f(x). \n",
    "\n",
    "Further, the **absolute value** of the derivative tells you how quickly this increase or decrease will happen.\n",
    "\n",
    "Lets look at an example for a derivative: $f(x) = x^2 + 3x$"
   ]
  },
  {
   "cell_type": "code",
   "execution_count": 1,
   "metadata": {},
   "outputs": [
    {
     "data": {
      "image/png": "[encoded data removed]",
      "text/plain": [
       "<matplotlib.figure.Figure at 0x10a9694a8>"
      ]
     },
     "metadata": {},
     "output_type": "display_data"
    }
   ],
   "source": [
    "%matplotlib inline\n",
    "import matplotlib\n",
    "import matplotlib.pyplot as plt\n",
    "import numpy as np\n",
    "\n",
    "def f(x): return x**2 + 3 * x\n",
    "\n",
    "def df_dx(x): return 2 * x + 3\n",
    "\n",
    "x = np.arange(-5, 2, 0.01)\n",
    "plt.xlabel('x')\n",
    "plt.plot(x, f(x), label='f(x)')\n",
    "plt.plot(x, df_dx(x), label='df(x)/dx')\n",
    "plt.axhline(linewidth=1, color='black')\n",
    "plt.legend()\n",
    "plt.show()"
   ]
  },
  {
   "cell_type": "markdown",
   "metadata": {},
   "source": [
    "The derivative is useful for minimizing a function because it tells us how to change $x$ in order to make a small decrease in y.\n",
    "\n",
    "The example function has the global minimum at $x=-1.5$\n",
    "\n",
    "For $x>-1.5$ the derivative is positive and we can decrease $f(x)$ by decreasing $x$.\n",
    "\n",
    "For $x<-1.5$ the derivative is negative and we can decrease $f(x)$ by increasing $x$.\n"
   ]
  },
  {
   "cell_type": "markdown",
   "metadata": {},
   "source": [
    "## Local and global minima\n",
    "\n",
    "A **local minimum** is a point where f(x) is lower than all neighboring points, so it is no longer possible to decrease f(x) by making small steps.\n",
    "\n",
    "A point that obtains the absolute lowest value of $f(x)$ is a **global minimum**.\n",
    "\n",
    "Optimization algorithms may fail to ﬁnd a global minimum when there are multiple local minima present. \n",
    "\n",
    "In the context of machine learning, we generally accept such solutions even though they are not truly minimal, as long as they correspond to low values of the cost function."
   ]
  },
  {
   "cell_type": "markdown",
   "metadata": {},
   "source": [
    "## Partial derivative\n",
    "\n",
    "When a function $f(x)$ has multiple inputs $x = [x_1,...,x_n]$, each input contributes to the value of the function and it does not make sense to have a single derivative. \n",
    "\n",
    "Instead we compute derivatives with respect to one input at a time, these are called **partial derivatives**.\n",
    "\n",
    "\n",
    "**Note:** When a function has multiple inputs it is preferable to use a vector $x = [x_1,...,x_n]$ as input instead of $f(x_1,...,x_n)$. This makes the function more generic and also allows to take advantage of vectorized operations in CPUs and GPUs.\n",
    "\n",
    "Instead of the differential operator $\\frac{d}{dx}$, we use the **partial differential operator** $ \\frac{\\partial}{\\partial x_i}$.\n",
    "\n",
    "$\\frac{\\partial}{\\partial x_i} f(x)$ measures how $f$ changes as only the variable $x_i$ increases at point x.\n",
    "\n",
    "$\\frac{\\partial}{\\partial x_i} f(x)$ is calculated just like the derivative for a single variable function, simply treating any variable other than $x_i$ in the equation as a constant.\n",
    "\n",
    "The **gradient** of $f$ is the vector containing all the partial derivatives, denoted $\\nabla f(x)$.\n",
    "\n",
    "$$\n",
    "\\nabla_x f(x) = \\left [ \\frac{\\partial}{\\partial x_1}f(x),..., \\frac{\\partial}{\\partial x_n}f(x) \\right ]\n",
    "$$\n",
    "\n",
    "The operator $\\nabla_x f(x)$ is called **nabla**.\n",
    "\n",
    "Lets look at an example: \n",
    "\n",
    "$f(x)=x_1^2 + x_2^3 + 5x_2$\n",
    "\n",
    "The partial derivatives are:\n",
    "\n",
    "$\\frac{\\partial}{\\partial x_1}f(x) = 2 x_1$\n",
    "\n",
    "$\\frac{\\partial}{\\partial x_2}f(x) = 3 x_2^2 + 5$\n",
    "\n",
    "And the gradient is:\n",
    "\n",
    "$\\nabla_x f(x) = \\left [ 2 x_1, 3 x_2^2 + 5 \\right ]$"
   ]
  },
  {
   "cell_type": "code",
   "execution_count": 6,
   "metadata": {},
   "outputs": [],
   "source": [
    "import numpy as np\n",
    "\n",
    "def f(x): \n",
    "    return x[0]**2 + x[1]**3 + 5 * x[1]\n",
    "\n",
    "def grad_f(x): \n",
    "    df_dx1 = 2 * x[0]\n",
    "    df_dx2 = 3 * x[1]**2 + 5\n",
    "    return np.array([df_dx1, df_dx2])\n"
   ]
  },
  {
   "cell_type": "markdown",
   "metadata": {},
   "source": [
    "## Gradient based optimization\n",
    "\n",
    "The gradient of $f(x)$ at some point $x$ is a vector that points into the direction of the greatest increase.\n",
    "\n",
    "Very much like the derivative before, the gradient can be used to minimize a function because it tells us how to change every $x_i$ in order to make a small decrease in $f(x)$.\n",
    "\n",
    "We can decrease $f$ by moving a **small step** in the direction of the **negative gradient**.\n",
    "\n",
    "Its important to only take a small step because the gradient is only a good approximation of $f(x)$ in its immediate surrounding of $x$.\n",
    "\n",
    "This is known **gradient descent**.\n",
    "\n",
    "Gradient descent proposes the following update rule for $x$:\n",
    "\n",
    "$$ x' = x - \\alpha \\nabla_x f(x) $$\n",
    "\n",
    "$\\alpha$ is called the **learning rate**, a positive scalar determining the size of the step.\n",
    "\n",
    "Gradient descent is an iterative algorithm.\n",
    "\n",
    "We can find a minimum of $f(x)$ by repeating the update rule until all elements in the gradient of $f(x)$ are (near) zero.\n",
    "\n",
    "Lets look at an example to see how this works:\n",
    "\n",
    "We have a function $f(x) = x_1^2 + x_2^3 + 3$. \n",
    "\n",
    "The function is convex and has a global minimum as $x=[0,0]$."
   ]
  },
  {
   "cell_type": "code",
   "execution_count": 18,
   "metadata": {},
   "outputs": [
    {
     "name": "stdout",
     "output_type": "stream",
     "text": [
      "Final x=[3.90188713e-05 6.37978884e-02]\n",
      "Final f(x)=3.000260\n"
     ]
    },
    {
     "data": {
      "image/png": "[encoded data removed]",
      "text/plain": [
       "<matplotlib.figure.Figure at 0x11586b400>"
      ]
     },
     "metadata": {},
     "output_type": "display_data"
    }
   ],
   "source": [
    "%matplotlib inline\n",
    "import matplotlib\n",
    "import numpy as np\n",
    "import matplotlib.pyplot as plt\n",
    "\n",
    "# f(x) is the function we want to minimize\n",
    "def f(x):\n",
    "    return x[0]**2 + x[1]**3 + 3\n",
    "\n",
    "# Gradient of f(x)\n",
    "def grad_f(x):\n",
    "    return np.array([2 * x[0], 3 * x[1]**2])\n",
    "\n",
    "max_steps = 200\n",
    "alpha = 0.025\n",
    "\n",
    "# x is initialized randomly\n",
    "initial_x = np.random.rand(2) * 5.0 \n",
    "\n",
    "x = initial_x\n",
    "f_hist = []\n",
    "for step in range(max_steps):\n",
    "    # calculate the gradient at x and update x\n",
    "    # in the direction of the negative gradient\n",
    "    x = x - alpha * grad_f(x)\n",
    "    f_hist.append(f(x))\n",
    "    \n",
    "print('Final x=%s' % x)\n",
    "print('Final f(x)=%f' % f(x))\n",
    "\n",
    "plt.title('Convergence plot')\n",
    "plt.xlabel('step')\n",
    "plt.ylabel('f(x)')\n",
    "plt.plot(f_hist)\n",
    "plt.show()\n"
   ]
  },
  {
   "cell_type": "markdown",
   "metadata": {},
   "source": [
    "You can see from the plot that at some step the value of $f(x)$ does not change any more, the process has converged.\n",
    "\n",
    "The example implementation of gradient descent is very simple.\n",
    "\n",
    "State-of-the-art implementation are highly optimized and take advantage of hardware accelerators like vectorized CPU operations, GPUs or TPUs."
   ]
  },
  {
   "cell_type": "markdown",
   "metadata": {},
   "source": [
    "## Model optimization\n",
    "\n",
    "Now we can come back to the initial question how to find model parameters $\\theta$ that minimize the loss function $L$ of a model $f(x)$.\n",
    "\n",
    "The loss function takes as input $x$, $y$ and $\\theta$, so we can write it as $L(x, y, \\theta)$.\n",
    "\n",
    "For optimization we must only update the parameters $\\theta$.  $x$ and $y$ are facts that we have observed and that can not be changed.\n",
    "\n",
    "To minimize the loss function we use gradient descent with the following update rule:\n",
    "\n",
    "$$ \\theta_{n+1} = \\theta_{n} - \\alpha \\nabla_{\\theta} L(x,y;\\theta_n) $$\n",
    "\n",
    "Note the subscript on the nabla operator, the gradient only contains the partial derivatives of the loss w.r.t. $\\theta$ and not w.r.t. the observations $x$ and $y$.\n",
    "\n",
    "To train the model we perform the following steps:\n",
    "\n",
    " 1. Initialize $\\theta_0$ with small random values\n",
    " 2. Draw $x$ and $y$ from the dataset\n",
    " 3. Calculate $\\hat y = f(x)$\n",
    " 4. Calculate the gradient of the loss function w.r.t. $\\theta_n$\n",
    " 5. Update all parameters according to the update rule $\\theta_{n+1} = \\theta_{n} - \\alpha \\nabla_\\theta L(x, y;\\theta_{n})$\n",
    " 6. Repeat from step 2 until loss change stays below some threshold\n",
    " \n",
    "Take a look at the next notebook for an example. "
   ]
  }
 ],
 "metadata": {
  "kernelspec": {
   "display_name": "Python 3",
   "language": "python",
   "name": "python3"
  },
  "language_info": {
   "codemirror_mode": {
    "name": "ipython",
    "version": 3
   },
   "file_extension": ".py",
   "mimetype": "text/x-python",
   "name": "python",
   "nbconvert_exporter": "python",
   "pygments_lexer": "ipython3",
   "version": "3.6.4"
  }
 },
 "nbformat": 4,
 "nbformat_minor": 2
}
