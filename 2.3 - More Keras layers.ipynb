{
 "cells": [
  {
   "cell_type": "markdown",
   "metadata": {},
   "source": [
    "## Embedding layer"
   ]
  },
  {
   "cell_type": "code",
   "execution_count": null,
   "metadata": {},
   "outputs": [],
   "source": [
    "import numpy as np\n",
    "from keras.layers import Input, Dense\n",
    "from keras.layers.embeddings import Embedding\n",
    "from keras.models import Model\n",
    "\n",
    "max_sequence = 5\n",
    "embedding_dims = 10\n",
    "\n",
    "# Size of the vocabulary. The assumption is that indexing starts with 0\n",
    "# and is consequtive.\n",
    "vocab_size = 3\n",
    "\n",
    "inputs = Input(shape=(max_sequence,), dtype='int32') # each X_i is a sequence of 'max_sequence' integers\n",
    "outputs = Embedding(vocab_size, embedding_dims, input_length=max_sequence)(inputs)\n",
    "\n",
    "model = Model([inputs], [outputs])\n",
    "model.compile(optimizer='sgd', loss='mse')\n",
    "\n",
    "model.predict( np.array([[0,1,1,1,2]]) )\n",
    "\n",
    "# An embedding layer is like a lookup table. The values in the input \n",
    "# vector are used as indices in the internal weights matrix."
   ]
  },
  {
   "cell_type": "markdown",
   "metadata": {},
   "source": [
    "## Lambda layer\n",
    "Simple way to add functionality to a model. Best used for stateless functions. For stateful functions it is better to implement a separate layer."
   ]
  },
  {
   "cell_type": "code",
   "execution_count": 5,
   "metadata": {},
   "outputs": [
    {
     "name": "stdout",
     "output_type": "stream",
     "text": [
      "[[1. 1. 1. 1.]]\n",
      "[[1. 2. 3. 4.]]\n",
      "[[[2. 2. 2. 2.]\n",
      "  [4. 4. 4. 4.]\n",
      "  [6. 6. 6. 6.]\n",
      "  [8. 8. 8. 8.]]]\n"
     ]
    }
   ],
   "source": [
    "import numpy as np\n",
    "from keras.layers import Input, Concatenate, Lambda, Embedding, Average, Dense, Add\n",
    "from keras.models import Model\n",
    "\n",
    "\n",
    "inputs = Input(shape=(4,4), dtype='float32')\n",
    "first_row = Lambda(lambda x: x[:,0,:])(inputs)\n",
    "first_column = Lambda(lambda x: x[:,:,0])(inputs)\n",
    "doubled = Lambda(lambda x: x*2.0)(inputs)\n",
    "\n",
    "model = Model(inputs=inputs, outputs=[first_row, first_column, doubled])\n",
    "model.compile(optimizer='sgd', loss='mse')\n",
    "\n",
    "x = np.array([\n",
    "    [\n",
    "    [1,1,1,1],\n",
    "    [2,2,2,2],\n",
    "    [3,3,3,3],\n",
    "    [4,4,4,4],        \n",
    "    ]\n",
    "], dtype=np.float32)\n",
    "\n",
    "x,y,z = model.predict(x)\n",
    "print(x)\n",
    "print(y)\n",
    "print(z)"
   ]
  },
  {
   "cell_type": "markdown",
   "metadata": {},
   "source": [
    "## Merge layer: concatenate, average and sum"
   ]
  },
  {
   "cell_type": "code",
   "execution_count": 2,
   "metadata": {},
   "outputs": [
    {
     "name": "stdout",
     "output_type": "stream",
     "text": [
      "(1, 4, 4)\n",
      "concat_out [[1. 1. 1. 1. 2. 2. 2. 2. 3. 3. 3. 3. 4. 4. 4. 4.]]\n",
      "avg_out [[2.5 2.5 2.5 2.5]]\n",
      "sum_out [[10. 10. 10. 10.]]\n"
     ]
    }
   ],
   "source": [
    "import numpy as np\n",
    "from keras.layers import Input, Concatenate, Lambda, Embedding, Average, Dense, Add\n",
    "from keras.models import Model\n",
    "\n",
    "\n",
    "inputs = Input(shape=(4,4), dtype='float32')\n",
    "word_vector_rows = [Lambda(lambda x: x[:,i,:])(inputs) for i in range(win_size)]\n",
    "concat_out = Concatenate()(word_vector_rows)\n",
    "avg_out = Average()(word_vector_rows)\n",
    "sum_out = Add()(word_vector_rows)\n",
    "\n",
    "\n",
    "model = Model(inputs=inputs, outputs=[concat_out, avg_out, sum_out])\n",
    "\n",
    "model.compile(optimizer='sgd', loss='mse')\n",
    "\n",
    "x = np.array([\n",
    "    [\n",
    "    [1,1,1,1],\n",
    "    [2,2,2,2],\n",
    "    [3,3,3,3],\n",
    "    [4,4,4,4],        \n",
    "    ]\n",
    "], dtype=np.float32)\n",
    "\n",
    "print(x.shape)\n",
    "\n",
    "concat_out_val, avg_out_val, sum_out_val = model.predict(x)\n",
    "print('concat_out', concat_out_val)\n",
    "print('avg_out', avg_out_val)\n",
    "print('sum_out', sum_out_val)"
   ]
  }
 ],
 "metadata": {
  "kernelspec": {
   "display_name": "Python 3",
   "language": "python",
   "name": "python3"
  },
  "language_info": {
   "codemirror_mode": {
    "name": "ipython",
    "version": 3
   },
   "file_extension": ".py",
   "mimetype": "text/x-python",
   "name": "python",
   "nbconvert_exporter": "python",
   "pygments_lexer": "ipython3",
   "version": "3.6.4"
  }
 },
 "nbformat": 4,
 "nbformat_minor": 2
}
