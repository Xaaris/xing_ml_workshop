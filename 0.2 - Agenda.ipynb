{
 "cells": [
  {
   "cell_type": "markdown",
   "metadata": {},
   "source": [
    "\n",
    "# Agenda\n",
    "\n",
    "## Day 1\n",
    "\n",
    " * 1.0 - Introduction\n",
    " * 1.1 - ML Overview\n",
    " * 1.2 - MNIST example\n",
    " * 1.3 - Keras introduction\n",
    " * 1.4 - Data representation\n",
    " * 1.5 - Activation functions\n",
    " * 1.6 - Loss functions\n",
    " * 1.7 - Gradient-Based Optimization\n",
    " * 1.8 - Gradient Descent example\n",
    " * 1.9 - More optimization\n",
    "\n",
    "## Day 2\n",
    "\n",
    " * 2.1 - Natual language processing\n",
    " * 2.2 - The word2vec model\n",
    " * 2.3 - More Keras layers\n",
    " * 2.4 - Word2vec Implementation\n",
    " * 2.5 - Train word2vec model\n",
    " * 2.6 - Show word similarities\n",
    " * 2.7 - Plot word relationships\n",
    " * 2.8 - Doc2vec\n",
    "\n",
    "## Bonus material \n",
    "\n",
    " * 3.1 - Workflow and infrastructure.ipynb"
   ]
  }
 ],
 "metadata": {
  "kernelspec": {
   "display_name": "Python 3",
   "language": "python",
   "name": "python3"
  },
  "language_info": {
   "codemirror_mode": {
    "name": "ipython",
    "version": 3
   },
   "file_extension": ".py",
   "mimetype": "text/x-python",
   "name": "python",
   "nbconvert_exporter": "python",
   "pygments_lexer": "ipython3",
   "version": "3.6.4"
  }
 },
 "nbformat": 4,
 "nbformat_minor": 2
}
